{
 "cells": [
  {
   "cell_type": "code",
   "execution_count": 83,
   "metadata": {},
   "outputs": [],
   "source": [
    "#librerie necessarie per la classificazione\n",
    "%matplotlib inline\n",
    "import math\n",
    "import random\n",
    "import numpy as np\n",
    "import pandas as pd\n",
    "import scipy.stats as stats\n",
    "import matplotlib.pyplot as plt\n",
    "from sklearn import metrics\n",
    "from collections import defaultdict\n",
    "from sklearn.model_selection import GridSearchCV\n",
    "from sklearn.metrics import confusion_matrix\n",
    "from sklearn.cross_validation import train_test_split\n",
    "from sklearn.metrics import make_scorer\n",
    "from sklearn.metrics import roc_auc_score, accuracy_score, roc_curve\n",
    "from sklearn.model_selection import learning_curve\n",
    "from sklearn.tree import DecisionTreeClassifier\n",
    "from sklearn import cross_validation\n",
    "from sklearn.cross_validation import cross_val_score\n"
   ]
  },
  {
   "cell_type": "code",
   "execution_count": 84,
   "metadata": {
    "collapsed": true
   },
   "outputs": [],
   "source": [
    "import itertools    \n",
    "def plot_confusion_matrix(cm, classes,\n",
    "                              normalize=False,\n",
    "                              title='Confusion matrix',\n",
    "                              cmap=plt.cm.Oranges):\n",
    "        import itertools\n",
    "        plt.imshow(cm, interpolation='nearest', cmap=cmap)\n",
    "        plt.title(title)\n",
    "        plt.colorbar()\n",
    "        tick_marks = np.arange(len(classes))\n",
    "        plt.xticks(tick_marks, classes, rotation=45)\n",
    "        plt.yticks(tick_marks, classes)\n",
    "\n",
    "        if normalize:\n",
    "            cm = cm.astype('float') / cm.sum(axis=1)[:, np.newaxis]\n",
    "            print(\"Normalized confusion matrix\")\n",
    "        else:\n",
    "            print('Confusion matrix, without normalization')\n",
    "\n",
    "        print(cm)\n",
    "\n",
    "        thresh = cm.max() / 2.\n",
    "        for i, j in itertools.product(range(cm.shape[0]), range(cm.shape[1])):\n",
    "            plt.text(j, i, cm[i, j],\n",
    "                     horizontalalignment=\"center\",\n",
    "                     color=\"white\" if cm[i, j] > thresh else \"black\")\n",
    "\n",
    "        plt.tight_layout()\n",
    "        plt.ylabel('True label')\n",
    "        plt.xlabel('Predicted label')"
   ]
  },
  {
   "cell_type": "code",
   "execution_count": 85,
   "metadata": {
    "collapsed": true
   },
   "outputs": [],
   "source": [
    "def report(results, n_top=3):\n",
    "    for i in range(1, n_top + 1):\n",
    "        candidates = np.flatnonzero(results['rank_test_score'] == i)\n",
    "        for candidate in candidates:\n",
    "            print(\"Model with rank: {0}\".format(i))\n",
    "            print(\"Mean validation score: {0:.3f} (std: {1:.3f})\".format(\n",
    "                  results['mean_test_score'][candidate],\n",
    "                  results['std_test_score'][candidate]))\n",
    "            print(\"Parameters: {0}\".format(results['params'][candidate]))\n",
    "            print(\"\")"
   ]
  },
  {
   "cell_type": "code",
   "execution_count": 86,
   "metadata": {
    "collapsed": true
   },
   "outputs": [],
   "source": [
    "#open file\n",
    "df = pd.read_csv('abalone-data.csv')"
   ]
  },
  {
   "cell_type": "code",
   "execution_count": 87,
   "metadata": {
    "collapsed": true
   },
   "outputs": [],
   "source": [
    "#rename columns\n",
    "df.columns = ['Sex', 'Length', 'Diameter', 'Height', 'Whole_weight', 'Shucked_weight', 'Viscera_weight', 'Shell_weight', 'Rings']"
   ]
  },
  {
   "cell_type": "code",
   "execution_count": 88,
   "metadata": {
    "collapsed": true
   },
   "outputs": [],
   "source": [
    "#discard the “Infant” abalones\n",
    "df = df[df['Sex'] != 'I' ]"
   ]
  },
  {
   "cell_type": "code",
   "execution_count": 89,
   "metadata": {
    "collapsed": true
   },
   "outputs": [],
   "source": [
    "# Generate a mapping of Sex from a string to a number representation    \n",
    "sexes = sorted(df['Sex'].unique()) #Return unique values \n",
    "genders_mapping = dict(zip(sexes, range(0, len(sexes) + 1))) #create a dictionary {F: number of records; M: number of records}\n",
    "# Transform Sex from a string to a number representation\n",
    "df['Sex'] = df['Sex'].map(genders_mapping).astype(int) #Male=1; Female=0"
   ]
  },
  {
   "cell_type": "code",
   "execution_count": 90,
   "metadata": {
    "collapsed": true
   },
   "outputs": [],
   "source": [
    "#copia df per dati sbilanciati\n",
    "df_imb = df.copy()"
   ]
  },
  {
   "cell_type": "code",
   "execution_count": 91,
   "metadata": {
    "collapsed": true
   },
   "outputs": [],
   "source": [
    "#copia df per dati oversampled\n",
    "df_os = df.copy()"
   ]
  },
  {
   "cell_type": "code",
   "execution_count": 92,
   "metadata": {},
   "outputs": [],
   "source": [
    "#classi bilanciate\n",
    "df['Bin'] = pd.cut(df['Rings'], bins=[0, 10, 29], right=True, labels = [0, 1] )"
   ]
  },
  {
   "cell_type": "code",
   "execution_count": 93,
   "metadata": {},
   "outputs": [
    {
     "name": "stdout",
     "output_type": "stream",
     "text": [
      "0    88.359788\n",
      "1    11.640212\n",
      "Name: Bin, dtype: float64\n"
     ]
    }
   ],
   "source": [
    "#classi sbilanciate\n",
    "df_imb['Bin'] = pd.cut(df_imb['Rings'], bins=[0, 14, 29], right=True, labels = [0, 1] ) \n",
    "print(df_imb.Bin.value_counts(sort=True)*100/len(df_imb)) \n",
    "df_imb = df_imb.drop(['Rings'], axis=1)"
   ]
  },
  {
   "cell_type": "code",
   "execution_count": 94,
   "metadata": {},
   "outputs": [
    {
     "name": "stdout",
     "output_type": "stream",
     "text": [
      "0    88.359788\n",
      "1    11.640212\n",
      "Name: Bin, dtype: float64\n"
     ]
    }
   ],
   "source": [
    "#classi oversampled\n",
    "df_os['Bin'] = pd.cut(df_os['Rings'], bins=[0, 14, 29], right=True, labels = [0, 1] ) \n",
    "print(df_os.Bin.value_counts(sort=True)*100/len(df_os)) \n",
    "df_os = df_os.drop(['Rings'], axis=1)"
   ]
  },
  {
   "cell_type": "code",
   "execution_count": 95,
   "metadata": {
    "collapsed": true
   },
   "outputs": [],
   "source": [
    "df = df.drop(labels= ['Rings'], axis = 1)"
   ]
  },
  {
   "cell_type": "code",
   "execution_count": 96,
   "metadata": {
    "collapsed": true
   },
   "outputs": [],
   "source": [
    "train_data = df.values\n",
    "train_features = train_data[:, 0:7]"
   ]
  },
  {
   "cell_type": "code",
   "execution_count": 97,
   "metadata": {},
   "outputs": [],
   "source": [
    "train_target = train_data[:,8].astype('int')"
   ]
  },
  {
   "cell_type": "code",
   "execution_count": 98,
   "metadata": {
    "collapsed": true
   },
   "outputs": [],
   "source": [
    "x_train, x_test, y_train, y_test = train_test_split(train_features, train_target, test_size = 0.20, random_state = 0)"
   ]
  },
  {
   "cell_type": "markdown",
   "metadata": {},
   "source": [
    "# BAGGING - CLASSI BILANCIATE"
   ]
  },
  {
   "cell_type": "code",
   "execution_count": 109,
   "metadata": {
    "collapsed": true
   },
   "outputs": [],
   "source": [
    "#stima del classificatore ad albero\n",
    "clf = DecisionTreeClassifier()\n",
    "\n",
    "parameters = {'criterion': ['gini', 'entropy'],\n",
    "              'splitter': ['best', 'random'], \n",
    "              'min_samples_split': [2,3,4,5], \n",
    "              'min_samples_leaf': [2,3,4,5],\n",
    "             }\n",
    "scorer = make_scorer(accuracy_score)"
   ]
  },
  {
   "cell_type": "code",
   "execution_count": 110,
   "metadata": {
    "collapsed": true
   },
   "outputs": [],
   "source": [
    "grid_search = GridSearchCV(clf, param_grid = parameters, scoring=scorer)"
   ]
  },
  {
   "cell_type": "code",
   "execution_count": 111,
   "metadata": {},
   "outputs": [],
   "source": [
    "grid_fit = grid_search.fit(x_train,y_train)"
   ]
  },
  {
   "cell_type": "code",
   "execution_count": 112,
   "metadata": {
    "scrolled": false
   },
   "outputs": [
    {
     "name": "stdout",
     "output_type": "stream",
     "text": [
      "('I migliori parametri dopo la Grid Search sono:', {'min_samples_split': 3, 'splitter': 'random', 'criterion': 'gini', 'min_samples_leaf': 5})\n"
     ]
    }
   ],
   "source": [
    "print ('I migliori parametri dopo la Grid Search sono:', grid_fit.best_params_)"
   ]
  },
  {
   "cell_type": "code",
   "execution_count": 113,
   "metadata": {},
   "outputs": [
    {
     "data": {
      "text/plain": [
       "DecisionTreeClassifier(class_weight=None, criterion='gini', max_depth=None,\n",
       "            max_features=None, max_leaf_nodes=None,\n",
       "            min_impurity_decrease=0.0, min_impurity_split=None,\n",
       "            min_samples_leaf=5, min_samples_split=3,\n",
       "            min_weight_fraction_leaf=0.0, presort=False, random_state=None,\n",
       "            splitter='random')"
      ]
     },
     "execution_count": 113,
     "metadata": {},
     "output_type": "execute_result"
    }
   ],
   "source": [
    "clf.set_params(criterion='gini', splitter='random', max_depth=None, \n",
    "                                  min_samples_split=3, min_samples_leaf=5)"
   ]
  },
  {
   "cell_type": "code",
   "execution_count": 114,
   "metadata": {
    "collapsed": true
   },
   "outputs": [],
   "source": [
    "clf = clf.fit(x_train, y_train);"
   ]
  },
  {
   "cell_type": "code",
   "execution_count": 115,
   "metadata": {
    "collapsed": true
   },
   "outputs": [],
   "source": [
    "predictions = clf.predict_proba(x_test)"
   ]
  },
  {
   "cell_type": "code",
   "execution_count": 116,
   "metadata": {
    "collapsed": true
   },
   "outputs": [],
   "source": [
    "from sklearn.ensemble import BaggingClassifier\n",
    "bag = BaggingClassifier(base_estimator=clf)\n",
    "scoring = {'AUC': 'roc_auc', 'Accuracy': make_scorer(accuracy_score)}\n",
    "\n",
    "param = {'max_samples': [1.0, 0.8, 0.6, 0.4, 0.2, 0.1],\n",
    "         'n_estimators': range(10, 100, 10)\n",
    "        }"
   ]
  },
  {
   "cell_type": "code",
   "execution_count": 117,
   "metadata": {
    "collapsed": true
   },
   "outputs": [],
   "source": [
    "grid_bag = GridSearchCV(bag, param_grid = param, scoring=scoring, refit='AUC')"
   ]
  },
  {
   "cell_type": "code",
   "execution_count": 118,
   "metadata": {},
   "outputs": [],
   "source": [
    "grid_bag = grid_bag.fit(x_train,y_train)"
   ]
  },
  {
   "cell_type": "code",
   "execution_count": 119,
   "metadata": {},
   "outputs": [
    {
     "name": "stdout",
     "output_type": "stream",
     "text": [
      "('I migliori parametri dopo la Grid Search sono:', {'n_estimators': 70, 'max_samples': 1.0})\n"
     ]
    }
   ],
   "source": [
    "print ('I migliori parametri dopo la Grid Search sono:', grid_bag.best_params_)"
   ]
  },
  {
   "cell_type": "code",
   "execution_count": 120,
   "metadata": {},
   "outputs": [
    {
     "data": {
      "text/plain": [
       "BaggingClassifier(base_estimator=DecisionTreeClassifier(class_weight=None, criterion='gini', max_depth=None,\n",
       "            max_features=None, max_leaf_nodes=None,\n",
       "            min_impurity_decrease=0.0, min_impurity_split=None,\n",
       "            min_samples_leaf=5, min_samples_split=3,\n",
       "            min_weight_fraction_leaf=0.0, presort=False, random_state=None,\n",
       "            splitter='random'),\n",
       "         bootstrap=True, bootstrap_features=False, max_features=1.0,\n",
       "         max_samples=1.0, n_estimators=70, n_jobs=1, oob_score=False,\n",
       "         random_state=None, verbose=0, warm_start=False)"
      ]
     },
     "execution_count": 120,
     "metadata": {},
     "output_type": "execute_result"
    }
   ],
   "source": [
    "bag.set_params(max_samples=1.0, n_estimators=70)"
   ]
  },
  {
   "cell_type": "code",
   "execution_count": 121,
   "metadata": {
    "collapsed": true
   },
   "outputs": [],
   "source": [
    "bag = bag.fit(x_train, y_train);"
   ]
  },
  {
   "cell_type": "code",
   "execution_count": 122,
   "metadata": {
    "collapsed": true
   },
   "outputs": [],
   "source": [
    "test_pred = bag.predict_proba(x_test)"
   ]
  },
  {
   "cell_type": "code",
   "execution_count": 123,
   "metadata": {
    "scrolled": true
   },
   "outputs": [
    {
     "data": {
      "image/png": "[encoded data removed]",
      "text/plain": [
       "<matplotlib.figure.Figure at 0xd842a20>"
      ]
     },
     "metadata": {},
     "output_type": "display_data"
    }
   ],
   "source": [
    "from sklearn.metrics import roc_curve, auc\n",
    "import seaborn as sns\n",
    "\n",
    "fpr_test, tpr_test, _= roc_curve(y_test, test_pred[:,1])\n",
    "roc_auc = auc(fpr_test, tpr_test)\n",
    "\n",
    "fpr_clf, tpr_clf, _ =  roc_curve(y_test, predictions[:,1])\n",
    "roc_auc_clf= auc(fpr_clf, tpr_clf)\n",
    "\n",
    "sns.set_style(\"darkgrid\")\n",
    "plt.plot(fpr_test,tpr_test, label='Balanced Data Bagging (area = %0.2f)' % roc_auc)\n",
    "plt.plot(fpr_clf,tpr_clf, label='Balanced Data Single DT (area = %0.2f)' % roc_auc_clf)\n",
    "\n",
    "plt.title(\"ROC - Bagging\")\n",
    "\n",
    "plt.legend(loc=\"lower right\")\n",
    "plt.plot([0,1], [0,1], 'k--', lw = 1)\n",
    "plt.plot([0,0], [1,0], 'k--', lw = 1, color = 'black')\n",
    "plt.plot([1,0], [1,1], 'k--', lw = 1, color = 'black')\n",
    "plt.xlabel('False Positive rate')\n",
    "plt.ylabel('True Positive rate');\n",
    "plt.show()"
   ]
  },
  {
   "cell_type": "markdown",
   "metadata": {},
   "source": [
    "# BAGGING - CLASSI SBILANCIATE"
   ]
  },
  {
   "cell_type": "code",
   "execution_count": 125,
   "metadata": {
    "collapsed": true
   },
   "outputs": [],
   "source": [
    "train_data_imb = df_imb.values\n",
    "train_features_imb = train_data_imb[:, 0:7]"
   ]
  },
  {
   "cell_type": "code",
   "execution_count": 126,
   "metadata": {
    "collapsed": true
   },
   "outputs": [],
   "source": [
    "train_target_imb = train_data_imb[:,8].astype('int')"
   ]
  },
  {
   "cell_type": "code",
   "execution_count": 127,
   "metadata": {
    "collapsed": true
   },
   "outputs": [],
   "source": [
    "x_train_imb, x_test_imb, y_train_imb, y_test_imb = train_test_split(train_features_imb, train_target_imb, test_size = 0.20, random_state = 0)"
   ]
  },
  {
   "cell_type": "code",
   "execution_count": 128,
   "metadata": {
    "collapsed": true
   },
   "outputs": [],
   "source": [
    "#stima del classificatore ad albero\n",
    "clf_imb = DecisionTreeClassifier()\n",
    "\n",
    "parameters_imb = {'criterion': ['gini', 'entropy'],\n",
    "              'splitter': ['best', 'random'], \n",
    "              'min_samples_split': [2,3,4,5], \n",
    "              'min_samples_leaf': [2,3,4,5],\n",
    "             }\n",
    "scorer = make_scorer(accuracy_score)"
   ]
  },
  {
   "cell_type": "code",
   "execution_count": 129,
   "metadata": {
    "collapsed": true
   },
   "outputs": [],
   "source": [
    "grid_search_imb = GridSearchCV(clf_imb, param_grid = parameters_imb, scoring=scorer)"
   ]
  },
  {
   "cell_type": "code",
   "execution_count": 130,
   "metadata": {
    "collapsed": true
   },
   "outputs": [],
   "source": [
    "grid_fit_imb = grid_search_imb.fit(x_train_imb,y_train_imb)"
   ]
  },
  {
   "cell_type": "code",
   "execution_count": 131,
   "metadata": {
    "scrolled": false
   },
   "outputs": [
    {
     "name": "stdout",
     "output_type": "stream",
     "text": [
      "('I migliori parametri dopo la Grid Search sono:', {'min_samples_split': 4, 'splitter': 'random', 'criterion': 'entropy', 'min_samples_leaf': 5})\n"
     ]
    }
   ],
   "source": [
    "print ('I migliori parametri dopo la Grid Search sono:', grid_fit_imb.best_params_)"
   ]
  },
  {
   "cell_type": "code",
   "execution_count": 132,
   "metadata": {},
   "outputs": [
    {
     "data": {
      "text/plain": [
       "DecisionTreeClassifier(class_weight=None, criterion='entropy', max_depth=None,\n",
       "            max_features=None, max_leaf_nodes=None,\n",
       "            min_impurity_decrease=0.0, min_impurity_split=None,\n",
       "            min_samples_leaf=5, min_samples_split=4,\n",
       "            min_weight_fraction_leaf=0.0, presort=False, random_state=None,\n",
       "            splitter='random')"
      ]
     },
     "execution_count": 132,
     "metadata": {},
     "output_type": "execute_result"
    }
   ],
   "source": [
    "clf_imb.set_params(splitter='random', min_samples_leaf=5, criterion='entropy', min_samples_split= 4)"
   ]
  },
  {
   "cell_type": "code",
   "execution_count": 133,
   "metadata": {
    "collapsed": true
   },
   "outputs": [],
   "source": [
    "clf_imb = clf_imb.fit(x_train_imb, y_train_imb);"
   ]
  },
  {
   "cell_type": "code",
   "execution_count": 134,
   "metadata": {
    "collapsed": true
   },
   "outputs": [],
   "source": [
    "predictions_imb = clf_imb.predict_proba(x_test_imb)"
   ]
  },
  {
   "cell_type": "code",
   "execution_count": 143,
   "metadata": {
    "collapsed": true
   },
   "outputs": [],
   "source": [
    "bag_imb = BaggingClassifier(base_estimator=clf_imb)\n",
    "scoring = {'AUC': 'roc_auc', 'Accuracy': make_scorer(accuracy_score)}\n",
    "\n",
    "param = {'max_samples': [1.0, 0.8, 0.6, 0.4, 0.2, 0.1],\n",
    "         'n_estimators': range(10, 100, 10)\n",
    "        }"
   ]
  },
  {
   "cell_type": "code",
   "execution_count": 144,
   "metadata": {
    "collapsed": true
   },
   "outputs": [],
   "source": [
    "grid_bag_imb = GridSearchCV(bag_imb, param_grid = param, scoring=scoring, cv=5, refit='AUC')"
   ]
  },
  {
   "cell_type": "code",
   "execution_count": 145,
   "metadata": {
    "collapsed": true
   },
   "outputs": [],
   "source": [
    "grid_bag_imb = grid_bag_imb.fit(x_train_imb,y_train_imb)"
   ]
  },
  {
   "cell_type": "code",
   "execution_count": 146,
   "metadata": {},
   "outputs": [
    {
     "name": "stdout",
     "output_type": "stream",
     "text": [
      "('I migliori parametri dopo la Grid Search sono:', {'n_estimators': 60, 'max_samples': 1.0})\n"
     ]
    }
   ],
   "source": [
    "print ('I migliori parametri dopo la Grid Search sono:', grid_bag_imb.best_params_)"
   ]
  },
  {
   "cell_type": "code",
   "execution_count": 147,
   "metadata": {},
   "outputs": [
    {
     "data": {
      "text/plain": [
       "BaggingClassifier(base_estimator=DecisionTreeClassifier(class_weight=None, criterion='entropy', max_depth=None,\n",
       "            max_features=None, max_leaf_nodes=None,\n",
       "            min_impurity_decrease=0.0, min_impurity_split=None,\n",
       "            min_samples_leaf=5, min_samples_split=4,\n",
       "            min_weight_fraction_leaf=0.0, presort=False, random_state=None,\n",
       "            splitter='random'),\n",
       "         bootstrap=True, bootstrap_features=False, max_features=1.0,\n",
       "         max_samples=0.1, n_estimators=60, n_jobs=1, oob_score=False,\n",
       "         random_state=None, verbose=0, warm_start=False)"
      ]
     },
     "execution_count": 147,
     "metadata": {},
     "output_type": "execute_result"
    }
   ],
   "source": [
    "bag_imb.set_params(max_samples=0.1, n_estimators=60)"
   ]
  },
  {
   "cell_type": "code",
   "execution_count": 148,
   "metadata": {
    "collapsed": true
   },
   "outputs": [],
   "source": [
    "bag_imb = bag_imb.fit(x_train_imb, y_train_imb);"
   ]
  },
  {
   "cell_type": "code",
   "execution_count": 149,
   "metadata": {
    "collapsed": true
   },
   "outputs": [],
   "source": [
    "test_pred_imb = bag_imb.predict_proba(x_test_imb)"
   ]
  },
  {
   "cell_type": "code",
   "execution_count": 150,
   "metadata": {
    "scrolled": true
   },
   "outputs": [
    {
     "data": {
      "image/png": "[encoded data removed]",
      "text/plain": [
       "<matplotlib.figure.Figure at 0xe9cce80>"
      ]
     },
     "metadata": {},
     "output_type": "display_data"
    }
   ],
   "source": [
    "fpr_test_imb, tpr_test_imb, _= roc_curve(y_test_imb, test_pred_imb[:,1])\n",
    "roc_auc_imb = auc(fpr_test_imb, tpr_test_imb)\n",
    "\n",
    "fpr_clf_imb, tpr_clf_imb, _ =  roc_curve(y_test_imb, predictions_imb[:,1])\n",
    "roc_auc_clf_imb= auc(fpr_clf_imb, tpr_clf_imb)\n",
    "\n",
    "sns.set_style(\"darkgrid\")\n",
    "plt.plot(fpr_test_imb,tpr_test_imb, label='Unbalanced Data Bagging (area = %0.2f)' % roc_auc_imb)\n",
    "plt.plot(fpr_clf_imb,tpr_clf_imb, label='Unbalanced Data Single DT (area = %0.2f)' % roc_auc_clf_imb)\n",
    "\n",
    "plt.title(\"ROC - Bagging\")\n",
    "\n",
    "plt.legend(loc=\"lower right\")\n",
    "plt.plot([0,1], [0,1], 'k--', lw = 1)\n",
    "plt.plot([0,0], [1,0], 'k--', lw = 1, color = 'black')\n",
    "plt.plot([1,0], [1,1], 'k--', lw = 1, color = 'black')\n",
    "plt.xlabel('False Positive rate')\n",
    "plt.ylabel('True Positive rate');\n",
    "plt.show()"
   ]
  },
  {
   "cell_type": "markdown",
   "metadata": {},
   "source": [
    "# BAGGING- OVERSAMPLED"
   ]
  },
  {
   "cell_type": "code",
   "execution_count": 151,
   "metadata": {
    "collapsed": true
   },
   "outputs": [],
   "source": [
    "train_data_os = df_os.values\n",
    "train_features_os = train_data_os[:, 0:7]"
   ]
  },
  {
   "cell_type": "code",
   "execution_count": 152,
   "metadata": {
    "collapsed": true
   },
   "outputs": [],
   "source": [
    "train_target_os = train_data_os[:,8].astype('int')"
   ]
  },
  {
   "cell_type": "code",
   "execution_count": 156,
   "metadata": {
    "collapsed": true
   },
   "outputs": [],
   "source": [
    "#OVERSAMPLING SULLA CLASSE DI MINORANZA (15-29)\n",
    "from collections import Counter\n",
    "from sklearn.datasets import make_classification\n",
    "from imblearn.over_sampling import SMOTE"
   ]
  },
  {
   "cell_type": "code",
   "execution_count": 157,
   "metadata": {
    "collapsed": true
   },
   "outputs": [],
   "source": [
    "sm = SMOTE(ratio = {1:1800})\n",
    "trainfSMO, traintSMO = sm.fit_sample(train_features_os, train_target_os)"
   ]
  },
  {
   "cell_type": "code",
   "execution_count": 179,
   "metadata": {
    "collapsed": true
   },
   "outputs": [],
   "source": [
    "x_train_os, x_test_os, y_train_os, y_test_os = train_test_split(trainfSMO, traintSMO, test_size = 0.20, random_state = 0)"
   ]
  },
  {
   "cell_type": "code",
   "execution_count": 180,
   "metadata": {
    "collapsed": true
   },
   "outputs": [],
   "source": [
    "#stima del classificatore ad albero\n",
    "clf_os = DecisionTreeClassifier()\n",
    "\n",
    "parameters_os = {'criterion': ['gini', 'entropy'],\n",
    "              'splitter': ['best', 'random'], \n",
    "              'min_samples_split': [2,3,4,5], \n",
    "              'min_samples_leaf': [2,3,4,5],\n",
    "             }\n",
    "scorer = make_scorer(accuracy_score)"
   ]
  },
  {
   "cell_type": "code",
   "execution_count": 181,
   "metadata": {
    "collapsed": true
   },
   "outputs": [],
   "source": [
    "grid_search_os = GridSearchCV(clf_os, param_grid = parameters_os, scoring=scorer)"
   ]
  },
  {
   "cell_type": "code",
   "execution_count": 182,
   "metadata": {},
   "outputs": [],
   "source": [
    "grid_fit_imb = grid_search_os.fit(x_train_os,y_train_os)"
   ]
  },
  {
   "cell_type": "code",
   "execution_count": 183,
   "metadata": {
    "scrolled": false
   },
   "outputs": [
    {
     "name": "stdout",
     "output_type": "stream",
     "text": [
      "('I migliori parametri dopo la Grid Search sono:', {'min_samples_split': 5, 'splitter': 'best', 'criterion': 'entropy', 'min_samples_leaf': 3})\n"
     ]
    }
   ],
   "source": [
    "print ('I migliori parametri dopo la Grid Search sono:', grid_fit_imb.best_params_)"
   ]
  },
  {
   "cell_type": "code",
   "execution_count": 184,
   "metadata": {},
   "outputs": [
    {
     "data": {
      "text/plain": [
       "DecisionTreeClassifier(class_weight=None, criterion='entropy', max_depth=None,\n",
       "            max_features=None, max_leaf_nodes=None,\n",
       "            min_impurity_decrease=0.0, min_impurity_split=None,\n",
       "            min_samples_leaf=3, min_samples_split=5,\n",
       "            min_weight_fraction_leaf=0.0, presort=False, random_state=None,\n",
       "            splitter='best')"
      ]
     },
     "execution_count": 184,
     "metadata": {},
     "output_type": "execute_result"
    }
   ],
   "source": [
    "clf_os.set_params(splitter='best', min_samples_leaf=3 ,criterion='entropy', min_samples_split= 5)"
   ]
  },
  {
   "cell_type": "code",
   "execution_count": 185,
   "metadata": {
    "collapsed": true
   },
   "outputs": [],
   "source": [
    "clf_os = clf_os.fit(x_train_os, y_train_os);"
   ]
  },
  {
   "cell_type": "code",
   "execution_count": 201,
   "metadata": {
    "collapsed": true
   },
   "outputs": [],
   "source": [
    "predictions_os = clf_os.predict_proba(x_test_os)"
   ]
  },
  {
   "cell_type": "code",
   "execution_count": 187,
   "metadata": {
    "collapsed": true
   },
   "outputs": [],
   "source": [
    "bag_os = BaggingClassifier(base_estimator=clf_os)\n",
    "scoring = {'AUC': 'roc_auc', 'Accuracy': make_scorer(accuracy_score)}\n",
    "\n",
    "param = {'max_samples': [1.0, 0.8, 0.6, 0.4, 0.2, 0.1],\n",
    "         'n_estimators': range(10, 100, 10)\n",
    "        }"
   ]
  },
  {
   "cell_type": "code",
   "execution_count": 188,
   "metadata": {
    "collapsed": true
   },
   "outputs": [],
   "source": [
    "grid_bag_os = GridSearchCV(bag_os, param_grid = param, scoring=scoring, refit='AUC')"
   ]
  },
  {
   "cell_type": "code",
   "execution_count": 189,
   "metadata": {
    "collapsed": true
   },
   "outputs": [],
   "source": [
    "grid_bag_os = grid_bag_os.fit(x_train_os,y_train_os)"
   ]
  },
  {
   "cell_type": "code",
   "execution_count": 190,
   "metadata": {},
   "outputs": [
    {
     "name": "stdout",
     "output_type": "stream",
     "text": [
      "('I migliori parametri dopo la Grid Search sono:', {'n_estimators': 90, 'max_samples': 1.0})\n"
     ]
    }
   ],
   "source": [
    "print ('I migliori parametri dopo la Grid Search sono:', grid_bag_os.best_params_)"
   ]
  },
  {
   "cell_type": "code",
   "execution_count": 191,
   "metadata": {},
   "outputs": [
    {
     "data": {
      "text/plain": [
       "BaggingClassifier(base_estimator=DecisionTreeClassifier(class_weight=None, criterion='entropy', max_depth=None,\n",
       "            max_features=None, max_leaf_nodes=None,\n",
       "            min_impurity_decrease=0.0, min_impurity_split=None,\n",
       "            min_samples_leaf=3, min_samples_split=5,\n",
       "            min_weight_fraction_leaf=0.0, presort=False, random_state=None,\n",
       "            splitter='best'),\n",
       "         bootstrap=True, bootstrap_features=False, max_features=1.0,\n",
       "         max_samples=0.8, n_estimators=90, n_jobs=1, oob_score=False,\n",
       "         random_state=None, verbose=0, warm_start=False)"
      ]
     },
     "execution_count": 191,
     "metadata": {},
     "output_type": "execute_result"
    }
   ],
   "source": [
    "bag_os.set_params(max_samples=0.8, n_estimators=90)"
   ]
  },
  {
   "cell_type": "code",
   "execution_count": 192,
   "metadata": {
    "collapsed": true
   },
   "outputs": [],
   "source": [
    "bag_os = bag_os.fit(x_train_os, y_train_os);"
   ]
  },
  {
   "cell_type": "code",
   "execution_count": 202,
   "metadata": {
    "collapsed": true
   },
   "outputs": [],
   "source": [
    "test_pred_os = bag_os.predict_proba(x_test_os)"
   ]
  },
  {
   "cell_type": "code",
   "execution_count": 206,
   "metadata": {},
   "outputs": [
    {
     "data": {
      "image/png": "[encoded data removed]",
      "text/plain": [
       "<matplotlib.figure.Figure at 0xeb14710>"
      ]
     },
     "metadata": {},
     "output_type": "display_data"
    }
   ],
   "source": [
    "fpr_clf_os, tpr_clf_os, _ =  roc_curve(y_test_os, predictions_os[:,1])\n",
    "roc_auc_clf_os= auc(fpr_clf_os, tpr_clf_os)\n",
    "\n",
    "fpr_test_os, tpr_test_os, _= roc_curve(y_test_os, test_pred_os[:,1])\n",
    "roc_auc_os = auc(fpr_test_os, tpr_test_os)\n",
    "\n",
    "sns.set_style(\"darkgrid\")\n",
    "plt.plot(fpr_test_imb,tpr_test_imb, label='Oversampled Data Bagging (area = %0.2f)' % roc_auc_os)\n",
    "plt.plot(fpr_clf_imb,tpr_clf_imb, label='Oversampled Data Single DT (area = %0.2f)' % roc_auc_clf_os)\n",
    "\n",
    "plt.title(\"ROC - Bagging \")\n",
    "\n",
    "plt.legend(loc=\"lower right\")\n",
    "plt.plot([0,1], [0,1], 'k--', lw = 1)\n",
    "plt.plot([0,0], [1,0], 'k--', lw = 1, color = 'black')\n",
    "plt.plot([1,0], [1,1], 'k--', lw = 1, color = 'black')\n",
    "plt.xlabel('False Positive rate')\n",
    "plt.ylabel('True Positive rate');\n",
    "plt.show()"
   ]
  },
  {
   "cell_type": "code",
   "execution_count": 205,
   "metadata": {
    "scrolled": true
   },
   "outputs": [
    {
     "data": {
      "image/png": "[encoded data removed]",
      "text/plain": [
       "<matplotlib.figure.Figure at 0xe2400b8>"
      ]
     },
     "metadata": {},
     "output_type": "display_data"
    }
   ],
   "source": [
    "#CURVE A CONFRONTO\n",
    "fpr_test, tpr_test, _= roc_curve(y_test, test_pred[:,1])\n",
    "roc_auc = auc(fpr_test, tpr_test)\n",
    "\n",
    "\n",
    "fpr_tes__imb, tpr_test_imb, _= roc_curve(y_test_imb, test_pred_imb[:,1])\n",
    "roc_auc_imb = auc(fpr_test_imb, tpr_test_imb)\n",
    "\n",
    "\n",
    "fpr_tes__os, tpr_test_os, _= roc_curve(y_test_os, test_pred_os[:,1])\n",
    "roc_auc_os = auc(fpr_test_os, tpr_test_os)\n",
    "\n",
    "\n",
    "\n",
    "sns.set_style(\"darkgrid\")\n",
    "plt.plot(fpr_test,tpr_test, label=' Balanced Data (area = %0.2f)' % roc_auc)\n",
    "plt.plot(fpr_test_imb,tpr_test_imb, label=' Unbalanced Data (area = %0.2f)' % roc_auc_imb)\n",
    "plt.plot(fpr_test_os,tpr_test_os, label=' Oversampled Data (area = %0.2f)' % roc_auc_os)\n",
    "\n",
    "plt.title(\"ROC - Bagging \")\n",
    "\n",
    "plt.legend(loc=\"lower right\")\n",
    "plt.plot([0,1], [0,1], 'k--', lw = 1)\n",
    "plt.plot([0,0], [1,0], 'k--', lw = 1, color = 'black')\n",
    "plt.plot([1,0], [1,1], 'k--', lw = 1, color = 'black')\n",
    "plt.xlabel('False Positive rate')\n",
    "plt.ylabel('True Positive rate');\n",
    "plt.show()"
   ]
  },
  {
   "cell_type": "code",
   "execution_count": null,
   "metadata": {
    "collapsed": true
   },
   "outputs": [],
   "source": []
  }
 ],
 "metadata": {
  "kernelspec": {
   "display_name": "Python 2",
   "language": "python",
   "name": "python2"
  },
  "language_info": {
   "codemirror_mode": {
    "name": "ipython",
    "version": 2
   },
   "file_extension": ".py",
   "mimetype": "text/x-python",
   "name": "python",
   "nbconvert_exporter": "python",
   "pygments_lexer": "ipython2",
   "version": "2.7.14"
  }
 },
 "nbformat": 4,
 "nbformat_minor": 2
}

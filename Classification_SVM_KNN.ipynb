{
 "cells": [
  {
   "cell_type": "code",
   "execution_count": 1,
   "metadata": {},
   "outputs": [
    {
     "name": "stdout",
     "output_type": "stream",
     "text": [
      "Using matplotlib backend: Qt5Agg\n",
      "Populating the interactive namespace from numpy and matplotlib\n"
     ]
    },
    {
     "name": "stderr",
     "output_type": "stream",
     "text": [
      "C:\\Users\\virgi\\AppData\\Local\\Continuum\\anaconda3\\lib\\site-packages\\sklearn\\cross_validation.py:41: DeprecationWarning: This module was deprecated in version 0.18 in favor of the model_selection module into which all the refactored classes and functions are moved. Also note that the interface of the new CV iterators are different from that of this module. This module will be removed in 0.20.\n",
      "  \"This module will be removed in 0.20.\", DeprecationWarning)\n"
     ]
    }
   ],
   "source": [
    "#librerie necessarie per la classificazione\n",
    "%matplotlib inline\n",
    "%pylab\n",
    "import math\n",
    "import random\n",
    "import numpy as np\n",
    "import pandas as pd\n",
    "import scipy.stats as stats\n",
    "import matplotlib.pyplot as plt\n",
    "from collections import defaultdict\n",
    "from scipy.stats.stats import pearsonr\n",
    "import seaborn as sns\n",
    "from sklearn import tree\n",
    "from sklearn import metrics\n",
    "from sklearn.tree import export_graphviz\n",
    "from sklearn.ensemble import RandomForestClassifier, ExtraTreesClassifier\n",
    "from sklearn.metrics import confusion_matrix\n",
    "from sklearn.cross_validation import train_test_split\n",
    "from sklearn import cross_validation\n",
    "from sklearn.cross_validation import cross_val_score\n",
    "from sklearn import neighbors\n",
    "from sklearn import linear_model\n",
    "from sklearn.naive_bayes import GaussianNB\n",
    "from sklearn import svm\n",
    "from scipy.stats import randint as sp_randint\n",
    "from sklearn.ensemble import RandomForestClassifier\n",
    "from sklearn.model_selection import RandomizedSearchCV\n",
    "from sklearn.model_selection import GridSearchCV\n",
    "from sklearn.metrics import make_scorer\n",
    "from sklearn.metrics import roc_auc_score, accuracy_score, roc_curve\n",
    "from sklearn.svm import SVC\n",
    "from sklearn.datasets import load_digits\n",
    "from sklearn.model_selection import learning_curve\n",
    "from sklearn.model_selection import ShuffleSplit\n",
    "import scipy.stats as stats\n",
    "import matplotlib.pyplot as plt\n",
    "from mpl_toolkits.mplot3d import Axes3D\n",
    "#end import from course\n",
    "from pandas.plotting import parallel_coordinates"
   ]
  },
  {
   "cell_type": "code",
   "execution_count": 2,
   "metadata": {},
   "outputs": [
    {
     "data": {
      "text/plain": [
       "4177"
      ]
     },
     "execution_count": 2,
     "metadata": {},
     "output_type": "execute_result"
    }
   ],
   "source": [
    "#open file\n",
    "df = pd.read_csv('abalone-data.csv')\n",
    "df.head()\n",
    "len(df)"
   ]
  },
  {
   "cell_type": "code",
   "execution_count": 3,
   "metadata": {},
   "outputs": [
    {
     "data": {
      "text/html": [
       "<div>\n",
       "<style scoped>\n",
       "    .dataframe tbody tr th:only-of-type {\n",
       "        vertical-align: middle;\n",
       "    }\n",
       "\n",
       "    .dataframe tbody tr th {\n",
       "        vertical-align: top;\n",
       "    }\n",
       "\n",
       "    .dataframe thead th {\n",
       "        text-align: right;\n",
       "    }\n",
       "</style>\n",
       "<table border=\"1\" class=\"dataframe\">\n",
       "  <thead>\n",
       "    <tr style=\"text-align: right;\">\n",
       "      <th></th>\n",
       "      <th>Sex</th>\n",
       "      <th>Length</th>\n",
       "      <th>Diameter</th>\n",
       "      <th>Height</th>\n",
       "      <th>Whole_weight</th>\n",
       "      <th>Shucked_weight</th>\n",
       "      <th>Viscera_weight</th>\n",
       "      <th>Shell_weight</th>\n",
       "      <th>Rings</th>\n",
       "    </tr>\n",
       "  </thead>\n",
       "  <tbody>\n",
       "    <tr>\n",
       "      <th>0</th>\n",
       "      <td>M</td>\n",
       "      <td>0.455</td>\n",
       "      <td>0.365</td>\n",
       "      <td>0.095</td>\n",
       "      <td>0.5140</td>\n",
       "      <td>0.2245</td>\n",
       "      <td>0.1010</td>\n",
       "      <td>0.150</td>\n",
       "      <td>15</td>\n",
       "    </tr>\n",
       "    <tr>\n",
       "      <th>1</th>\n",
       "      <td>M</td>\n",
       "      <td>0.350</td>\n",
       "      <td>0.265</td>\n",
       "      <td>0.090</td>\n",
       "      <td>0.2255</td>\n",
       "      <td>0.0995</td>\n",
       "      <td>0.0485</td>\n",
       "      <td>0.070</td>\n",
       "      <td>7</td>\n",
       "    </tr>\n",
       "    <tr>\n",
       "      <th>2</th>\n",
       "      <td>F</td>\n",
       "      <td>0.530</td>\n",
       "      <td>0.420</td>\n",
       "      <td>0.135</td>\n",
       "      <td>0.6770</td>\n",
       "      <td>0.2565</td>\n",
       "      <td>0.1415</td>\n",
       "      <td>0.210</td>\n",
       "      <td>9</td>\n",
       "    </tr>\n",
       "    <tr>\n",
       "      <th>3</th>\n",
       "      <td>M</td>\n",
       "      <td>0.440</td>\n",
       "      <td>0.365</td>\n",
       "      <td>0.125</td>\n",
       "      <td>0.5160</td>\n",
       "      <td>0.2155</td>\n",
       "      <td>0.1140</td>\n",
       "      <td>0.155</td>\n",
       "      <td>10</td>\n",
       "    </tr>\n",
       "    <tr>\n",
       "      <th>4</th>\n",
       "      <td>I</td>\n",
       "      <td>0.330</td>\n",
       "      <td>0.255</td>\n",
       "      <td>0.080</td>\n",
       "      <td>0.2050</td>\n",
       "      <td>0.0895</td>\n",
       "      <td>0.0395</td>\n",
       "      <td>0.055</td>\n",
       "      <td>7</td>\n",
       "    </tr>\n",
       "  </tbody>\n",
       "</table>\n",
       "</div>"
      ],
      "text/plain": [
       "  Sex  Length  Diameter  Height  Whole_weight  Shucked_weight  Viscera_weight  \\\n",
       "0   M   0.455     0.365   0.095        0.5140          0.2245          0.1010   \n",
       "1   M   0.350     0.265   0.090        0.2255          0.0995          0.0485   \n",
       "2   F   0.530     0.420   0.135        0.6770          0.2565          0.1415   \n",
       "3   M   0.440     0.365   0.125        0.5160          0.2155          0.1140   \n",
       "4   I   0.330     0.255   0.080        0.2050          0.0895          0.0395   \n",
       "\n",
       "   Shell_weight  Rings  \n",
       "0         0.150     15  \n",
       "1         0.070      7  \n",
       "2         0.210      9  \n",
       "3         0.155     10  \n",
       "4         0.055      7  "
      ]
     },
     "execution_count": 3,
     "metadata": {},
     "output_type": "execute_result"
    }
   ],
   "source": [
    "#rename columns\n",
    "df.columns = ['Sex', 'Length', 'Diameter', 'Height', 'Whole_weight', 'Shucked_weight', 'Viscera_weight', 'Shell_weight', 'Rings']\n",
    "df.head()"
   ]
  },
  {
   "cell_type": "code",
   "execution_count": 4,
   "metadata": {},
   "outputs": [
    {
     "data": {
      "text/plain": [
       "1342"
      ]
     },
     "execution_count": 4,
     "metadata": {},
     "output_type": "execute_result"
    }
   ],
   "source": [
    "#number of Infant abalones in the dataset\n",
    "count=0\n",
    "for i in df['Sex']:\n",
    "    if i=='I':\n",
    "        count+=1\n",
    "count"
   ]
  },
  {
   "cell_type": "code",
   "execution_count": 5,
   "metadata": {},
   "outputs": [
    {
     "data": {
      "text/plain": [
       "2835"
      ]
     },
     "execution_count": 5,
     "metadata": {},
     "output_type": "execute_result"
    }
   ],
   "source": [
    "#discard the “Infant” abalones\n",
    "df = df[df['Sex'] != 'I' ]\n",
    "df.head()\n",
    "len(df)"
   ]
  },
  {
   "cell_type": "code",
   "execution_count": 6,
   "metadata": {},
   "outputs": [
    {
     "data": {
      "text/html": [
       "<div>\n",
       "<style scoped>\n",
       "    .dataframe tbody tr th:only-of-type {\n",
       "        vertical-align: middle;\n",
       "    }\n",
       "\n",
       "    .dataframe tbody tr th {\n",
       "        vertical-align: top;\n",
       "    }\n",
       "\n",
       "    .dataframe thead th {\n",
       "        text-align: right;\n",
       "    }\n",
       "</style>\n",
       "<table border=\"1\" class=\"dataframe\">\n",
       "  <thead>\n",
       "    <tr style=\"text-align: right;\">\n",
       "      <th></th>\n",
       "      <th>Sex</th>\n",
       "      <th>Length</th>\n",
       "      <th>Diameter</th>\n",
       "      <th>Height</th>\n",
       "      <th>Whole_weight</th>\n",
       "      <th>Shucked_weight</th>\n",
       "      <th>Viscera_weight</th>\n",
       "      <th>Shell_weight</th>\n",
       "      <th>Rings</th>\n",
       "    </tr>\n",
       "  </thead>\n",
       "  <tbody>\n",
       "    <tr>\n",
       "      <th>0</th>\n",
       "      <td>1</td>\n",
       "      <td>0.455</td>\n",
       "      <td>0.365</td>\n",
       "      <td>0.095</td>\n",
       "      <td>0.5140</td>\n",
       "      <td>0.2245</td>\n",
       "      <td>0.1010</td>\n",
       "      <td>0.150</td>\n",
       "      <td>15</td>\n",
       "    </tr>\n",
       "    <tr>\n",
       "      <th>1</th>\n",
       "      <td>1</td>\n",
       "      <td>0.350</td>\n",
       "      <td>0.265</td>\n",
       "      <td>0.090</td>\n",
       "      <td>0.2255</td>\n",
       "      <td>0.0995</td>\n",
       "      <td>0.0485</td>\n",
       "      <td>0.070</td>\n",
       "      <td>7</td>\n",
       "    </tr>\n",
       "    <tr>\n",
       "      <th>2</th>\n",
       "      <td>0</td>\n",
       "      <td>0.530</td>\n",
       "      <td>0.420</td>\n",
       "      <td>0.135</td>\n",
       "      <td>0.6770</td>\n",
       "      <td>0.2565</td>\n",
       "      <td>0.1415</td>\n",
       "      <td>0.210</td>\n",
       "      <td>9</td>\n",
       "    </tr>\n",
       "    <tr>\n",
       "      <th>3</th>\n",
       "      <td>1</td>\n",
       "      <td>0.440</td>\n",
       "      <td>0.365</td>\n",
       "      <td>0.125</td>\n",
       "      <td>0.5160</td>\n",
       "      <td>0.2155</td>\n",
       "      <td>0.1140</td>\n",
       "      <td>0.155</td>\n",
       "      <td>10</td>\n",
       "    </tr>\n",
       "    <tr>\n",
       "      <th>6</th>\n",
       "      <td>0</td>\n",
       "      <td>0.530</td>\n",
       "      <td>0.415</td>\n",
       "      <td>0.150</td>\n",
       "      <td>0.7775</td>\n",
       "      <td>0.2370</td>\n",
       "      <td>0.1415</td>\n",
       "      <td>0.330</td>\n",
       "      <td>20</td>\n",
       "    </tr>\n",
       "  </tbody>\n",
       "</table>\n",
       "</div>"
      ],
      "text/plain": [
       "   Sex  Length  Diameter  Height  Whole_weight  Shucked_weight  \\\n",
       "0    1   0.455     0.365   0.095        0.5140          0.2245   \n",
       "1    1   0.350     0.265   0.090        0.2255          0.0995   \n",
       "2    0   0.530     0.420   0.135        0.6770          0.2565   \n",
       "3    1   0.440     0.365   0.125        0.5160          0.2155   \n",
       "6    0   0.530     0.415   0.150        0.7775          0.2370   \n",
       "\n",
       "   Viscera_weight  Shell_weight  Rings  \n",
       "0          0.1010         0.150     15  \n",
       "1          0.0485         0.070      7  \n",
       "2          0.1415         0.210      9  \n",
       "3          0.1140         0.155     10  \n",
       "6          0.1415         0.330     20  "
      ]
     },
     "execution_count": 6,
     "metadata": {},
     "output_type": "execute_result"
    }
   ],
   "source": [
    " # Generate a mapping of Sex from a string to a number representation    \n",
    "sexes = sorted(df['Sex'].unique()) #Return unique values \n",
    "genders_mapping = dict(zip(sexes, range(0, len(sexes) + 1))) #create a dictionary {F: number of records; M: number of records}\n",
    "# Transform Sex from a string to a number representation\n",
    "df['Sex'] = df['Sex'].map(genders_mapping).astype(int) #Male=1; Female=0\n",
    "df.head()"
   ]
  },
  {
   "cell_type": "code",
   "execution_count": 7,
   "metadata": {},
   "outputs": [
    {
     "data": {
      "text/plain": [
       "10.0"
      ]
     },
     "execution_count": 7,
     "metadata": {},
     "output_type": "execute_result"
    }
   ],
   "source": [
    "#calculate the median value of the column \n",
    "df['Rings'].median()"
   ]
  },
  {
   "cell_type": "code",
   "execution_count": 8,
   "metadata": {},
   "outputs": [
    {
     "name": "stderr",
     "output_type": "stream",
     "text": [
      "C:\\Users\\virgi\\AppData\\Local\\Continuum\\anaconda3\\lib\\site-packages\\matplotlib\\axes\\_axes.py:6462: UserWarning: The 'normed' kwarg is deprecated, and has been replaced by the 'density' kwarg.\n",
      "  warnings.warn(\"The 'normed' kwarg is deprecated, and has been \"\n"
     ]
    },
    {
     "data": {
      "image/png": "[encoded data removed]",
      "text/plain": [
       "<Figure size 432x288 with 1 Axes>"
      ]
     },
     "metadata": {},
     "output_type": "display_data"
    }
   ],
   "source": [
    "sns.distplot(df.Rings, kde=False, color = 'orange');"
   ]
  },
  {
   "cell_type": "code",
   "execution_count": 9,
   "metadata": {},
   "outputs": [
    {
     "data": {
      "text/plain": [
       "count    2835.000000\n",
       "mean       10.900882\n",
       "std         3.069252\n",
       "min         3.000000\n",
       "25%         9.000000\n",
       "50%        10.000000\n",
       "75%        12.000000\n",
       "max        29.000000\n",
       "Name: Rings, dtype: float64"
      ]
     },
     "execution_count": 9,
     "metadata": {},
     "output_type": "execute_result"
    }
   ],
   "source": [
    "df['Rings'].describe()"
   ]
  },
  {
   "cell_type": "code",
   "execution_count": 10,
   "metadata": {},
   "outputs": [
    {
     "name": "stderr",
     "output_type": "stream",
     "text": [
      "C:\\Users\\virgi\\AppData\\Local\\Continuum\\anaconda3\\lib\\site-packages\\matplotlib\\axes\\_axes.py:6462: UserWarning: The 'normed' kwarg is deprecated, and has been replaced by the 'density' kwarg.\n",
      "  warnings.warn(\"The 'normed' kwarg is deprecated, and has been \"\n"
     ]
    },
    {
     "data": {
      "image/png": "[encoded data removed]",
      "text/plain": [
       "<Figure size 432x288 with 1 Axes>"
      ]
     },
     "metadata": {},
     "output_type": "display_data"
    }
   ],
   "source": [
    "from scipy.stats import norm\n",
    "ax = sns.distplot(df.Rings, fit=norm, kde=False, color=\"orange\")"
   ]
  },
  {
   "cell_type": "code",
   "execution_count": 11,
   "metadata": {},
   "outputs": [
    {
     "name": "stdout",
     "output_type": "stream",
     "text": [
      "0       False\n",
      "1       False\n",
      "2        True\n",
      "3        True\n",
      "6       False\n",
      "7       False\n",
      "8        True\n",
      "9       False\n",
      "10      False\n",
      "11       True\n",
      "12       True\n",
      "13       True\n",
      "14       True\n",
      "15      False\n",
      "17       True\n",
      "18      False\n",
      "19       True\n",
      "20       True\n",
      "22      False\n",
      "23       True\n",
      "24       True\n",
      "25       True\n",
      "26       True\n",
      "27      False\n",
      "28      False\n",
      "29       True\n",
      "30       True\n",
      "31      False\n",
      "32      False\n",
      "33      False\n",
      "        ...  \n",
      "4135     True\n",
      "4136     True\n",
      "4137     True\n",
      "4138     True\n",
      "4139     True\n",
      "4140     True\n",
      "4141     True\n",
      "4142    False\n",
      "4143    False\n",
      "4144     True\n",
      "4145     True\n",
      "4146     True\n",
      "4147     True\n",
      "4148     True\n",
      "4156    False\n",
      "4157    False\n",
      "4159     True\n",
      "4160     True\n",
      "4161     True\n",
      "4162    False\n",
      "4167     True\n",
      "4168    False\n",
      "4169     True\n",
      "4170     True\n",
      "4171    False\n",
      "4172     True\n",
      "4173     True\n",
      "4174     True\n",
      "4175     True\n",
      "4176    False\n",
      "Name: Rings, Length: 2835, dtype: bool\n"
     ]
    }
   ],
   "source": [
    "print((df.Rings == 9) | (df.Rings == 10) | (df.Rings == 11))"
   ]
  },
  {
   "cell_type": "code",
   "execution_count": 12,
   "metadata": {},
   "outputs": [
    {
     "name": "stdout",
     "output_type": "stream",
     "text": [
      "      Sex  Length  Diameter  Height  Whole_weight  Shucked_weight  \\\n",
      "2       0   0.530     0.420   0.135        0.6770          0.2565   \n",
      "3       1   0.440     0.365   0.125        0.5160          0.2155   \n",
      "8       1   0.475     0.370   0.125        0.5095          0.2165   \n",
      "11      1   0.430     0.350   0.110        0.4060          0.1675   \n",
      "12      1   0.490     0.380   0.135        0.5415          0.2175   \n",
      "13      0   0.535     0.405   0.145        0.6845          0.2725   \n",
      "14      0   0.470     0.355   0.100        0.4755          0.1675   \n",
      "17      0   0.440     0.340   0.100        0.4510          0.1880   \n",
      "19      1   0.450     0.320   0.100        0.3810          0.1705   \n",
      "20      1   0.355     0.280   0.095        0.2455          0.0955   \n",
      "23      0   0.550     0.415   0.135        0.7635          0.3180   \n",
      "24      0   0.615     0.480   0.165        1.1615          0.5130   \n",
      "25      0   0.560     0.440   0.140        0.9285          0.3825   \n",
      "26      0   0.580     0.450   0.185        0.9955          0.3945   \n",
      "29      1   0.575     0.425   0.140        0.8635          0.3930   \n",
      "30      1   0.580     0.470   0.165        0.9975          0.3935   \n",
      "38      0   0.575     0.445   0.135        0.8830          0.3810   \n",
      "39      1   0.355     0.290   0.090        0.3275          0.1340   \n",
      "40      0   0.450     0.335   0.105        0.4250          0.1865   \n",
      "46      1   0.470     0.370   0.120        0.5795          0.2930   \n",
      "49      0   0.525     0.425   0.160        0.8355          0.3545   \n",
      "52      1   0.485     0.360   0.130        0.5415          0.2595   \n",
      "53      0   0.470     0.360   0.120        0.4775          0.2105   \n",
      "61      1   0.505     0.405   0.110        0.6250          0.3050   \n",
      "62      0   0.530     0.410   0.130        0.6965          0.3020   \n",
      "68      0   0.475     0.390   0.120        0.5305          0.2135   \n",
      "73      1   0.570     0.480   0.175        1.1850          0.4740   \n",
      "76      1   0.595     0.475   0.140        0.9440          0.3625   \n",
      "77      0   0.600     0.470   0.150        0.9220          0.3630   \n",
      "78      0   0.555     0.425   0.140        0.7880          0.2820   \n",
      "...   ...     ...       ...     ...           ...             ...   \n",
      "4115    0   0.605     0.465   0.155        1.1000          0.5470   \n",
      "4116    1   0.625     0.480   0.160        1.2415          0.6575   \n",
      "4117    0   0.640     0.505   0.175        1.3185          0.6185   \n",
      "4118    1   0.650     0.525   0.185        1.3455          0.5860   \n",
      "4126    1   0.550     0.420   0.145        0.7385          0.3210   \n",
      "4130    1   0.580     0.450   0.140        0.8240          0.3465   \n",
      "4133    1   0.585     0.450   0.150        0.9970          0.4055   \n",
      "4134    0   0.595     0.455   0.140        0.9140          0.3895   \n",
      "4135    0   0.600     0.500   0.170        1.1300          0.4405   \n",
      "4136    0   0.615     0.495   0.155        1.0805          0.5200   \n",
      "4137    1   0.630     0.505   0.155        1.1050          0.4920   \n",
      "4138    1   0.630     0.490   0.155        1.2290          0.5350   \n",
      "4139    0   0.635     0.495   0.175        1.2355          0.5205   \n",
      "4140    0   0.645     0.535   0.190        1.2395          0.4680   \n",
      "4141    0   0.650     0.505   0.165        1.3570          0.5725   \n",
      "4144    1   0.670     0.535   0.190        1.6690          0.7465   \n",
      "4145    1   0.670     0.525   0.200        1.7405          0.6205   \n",
      "4146    1   0.695     0.530   0.210        1.5100          0.6640   \n",
      "4147    1   0.695     0.550   0.195        1.6645          0.7270   \n",
      "4148    1   0.770     0.605   0.175        2.0505          0.8005   \n",
      "4159    0   0.560     0.440   0.135        0.8025          0.3500   \n",
      "4160    0   0.585     0.475   0.165        1.0530          0.4580   \n",
      "4161    0   0.585     0.455   0.170        0.9945          0.4255   \n",
      "4167    1   0.500     0.380   0.125        0.5770          0.2690   \n",
      "4169    1   0.520     0.385   0.165        0.7910          0.3750   \n",
      "4170    1   0.550     0.430   0.130        0.8395          0.3155   \n",
      "4172    0   0.565     0.450   0.165        0.8870          0.3700   \n",
      "4173    1   0.590     0.440   0.135        0.9660          0.4390   \n",
      "4174    1   0.600     0.475   0.205        1.1760          0.5255   \n",
      "4175    0   0.625     0.485   0.150        1.0945          0.5310   \n",
      "\n",
      "      Viscera_weight  Shell_weight  Rings  \n",
      "2             0.1415        0.2100      9  \n",
      "3             0.1140        0.1550     10  \n",
      "8             0.1125        0.1650      9  \n",
      "11            0.0810        0.1350     10  \n",
      "12            0.0950        0.1900     11  \n",
      "13            0.1710        0.2050     10  \n",
      "14            0.0805        0.1850     10  \n",
      "17            0.0870        0.1300     10  \n",
      "19            0.0750        0.1150      9  \n",
      "20            0.0620        0.0750     11  \n",
      "23            0.2100        0.2000      9  \n",
      "24            0.3010        0.3050     10  \n",
      "25            0.1880        0.3000     11  \n",
      "26            0.2720        0.2850     11  \n",
      "29            0.2270        0.2000     11  \n",
      "30            0.2420        0.3300     10  \n",
      "38            0.2035        0.2600     11  \n",
      "39            0.0860        0.0900      9  \n",
      "40            0.0910        0.1150      9  \n",
      "46            0.2270        0.1400      9  \n",
      "49            0.2135        0.2450      9  \n",
      "52            0.0960        0.1600     10  \n",
      "53            0.1055        0.1500     10  \n",
      "61            0.1600        0.1750      9  \n",
      "62            0.1935        0.2000     10  \n",
      "68            0.1155        0.1700     10  \n",
      "73            0.2610        0.3800     11  \n",
      "76            0.1890        0.3150      9  \n",
      "77            0.1940        0.3050     10  \n",
      "78            0.1595        0.2850     11  \n",
      "...              ...           ...    ...  \n",
      "4115          0.2665        0.2585     10  \n",
      "4116          0.2625        0.2785      9  \n",
      "4117          0.3020        0.3315      9  \n",
      "4118          0.2780        0.3865      9  \n",
      "4126          0.1485        0.2520     11  \n",
      "4130          0.1765        0.2630     10  \n",
      "4133          0.2830        0.2510     11  \n",
      "4134          0.2225        0.2710      9  \n",
      "4135          0.2670        0.3350     11  \n",
      "4136          0.1900        0.3200      9  \n",
      "4137          0.2260        0.3250     11  \n",
      "4138          0.2900        0.3350     11  \n",
      "4139          0.3085        0.3470     10  \n",
      "4140          0.2385        0.4240     10  \n",
      "4141          0.2810        0.4300     11  \n",
      "4144          0.2935        0.5080     11  \n",
      "4145          0.2970        0.6570     11  \n",
      "4146          0.4095        0.3850     10  \n",
      "4147          0.3600        0.4450     11  \n",
      "4148          0.5260        0.3550     11  \n",
      "4159          0.1615        0.2590      9  \n",
      "4160          0.2170        0.3000     11  \n",
      "4161          0.2630        0.2845     11  \n",
      "4167          0.1265        0.1535      9  \n",
      "4169          0.1800        0.1815     10  \n",
      "4170          0.1955        0.2405     10  \n",
      "4172          0.2390        0.2490     11  \n",
      "4173          0.2145        0.2605     10  \n",
      "4174          0.2875        0.3080      9  \n",
      "4175          0.2610        0.2960     10  \n",
      "\n",
      "[1483 rows x 9 columns]\n"
     ]
    },
    {
     "data": {
      "text/plain": [
       "1483"
      ]
     },
     "execution_count": 12,
     "metadata": {},
     "output_type": "execute_result"
    }
   ],
   "source": [
    "print(df[(df.Rings == 9)|(df.Rings == 10)|(df.Rings == 11)])\n",
    "len(df[(df.Rings == 9)|(df.Rings == 10)|(df.Rings == 11)])"
   ]
  },
  {
   "cell_type": "code",
   "execution_count": 13,
   "metadata": {
    "scrolled": true
   },
   "outputs": [
    {
     "name": "stdout",
     "output_type": "stream",
     "text": [
      "0       False\n",
      "1       False\n",
      "2       False\n",
      "3       False\n",
      "6        True\n",
      "7       False\n",
      "8       False\n",
      "9        True\n",
      "10      False\n",
      "11      False\n",
      "12      False\n",
      "13      False\n",
      "14      False\n",
      "15      False\n",
      "17      False\n",
      "18      False\n",
      "19      False\n",
      "20      False\n",
      "22      False\n",
      "23      False\n",
      "24      False\n",
      "25      False\n",
      "26      False\n",
      "27      False\n",
      "28      False\n",
      "29      False\n",
      "30      False\n",
      "31      False\n",
      "32       True\n",
      "33       True\n",
      "        ...  \n",
      "4135    False\n",
      "4136    False\n",
      "4137    False\n",
      "4138    False\n",
      "4139    False\n",
      "4140    False\n",
      "4141    False\n",
      "4142    False\n",
      "4143    False\n",
      "4144    False\n",
      "4145    False\n",
      "4146    False\n",
      "4147    False\n",
      "4148    False\n",
      "4156    False\n",
      "4157    False\n",
      "4159    False\n",
      "4160    False\n",
      "4161    False\n",
      "4162    False\n",
      "4167    False\n",
      "4168    False\n",
      "4169    False\n",
      "4170    False\n",
      "4171    False\n",
      "4172    False\n",
      "4173    False\n",
      "4174    False\n",
      "4175    False\n",
      "4176    False\n",
      "Name: Rings, Length: 2835, dtype: bool\n"
     ]
    }
   ],
   "source": [
    "print((df.Rings == 17) | (df.Rings == 18) | (df.Rings == 19)| (df.Rings == 20)| (df.Rings == 21))"
   ]
  },
  {
   "cell_type": "code",
   "execution_count": 14,
   "metadata": {},
   "outputs": [
    {
     "name": "stdout",
     "output_type": "stream",
     "text": [
      "      Sex  Length  Diameter  Height  Whole_weight  Shucked_weight  \\\n",
      "6       0   0.530     0.415   0.150        0.7775          0.2370   \n",
      "9       0   0.550     0.440   0.150        0.8945          0.3145   \n",
      "32      1   0.665     0.525   0.165        1.3380          0.5515   \n",
      "33      0   0.680     0.550   0.175        1.7980          0.8150   \n",
      "72      0   0.595     0.475   0.170        1.2470          0.4800   \n",
      "83      1   0.595     0.475   0.160        1.3175          0.4080   \n",
      "128     1   0.700     0.535   0.160        1.7255          0.6300   \n",
      "129     1   0.710     0.540   0.165        1.9590          0.7665   \n",
      "130     1   0.595     0.480   0.165        1.2620          0.4835   \n",
      "163     0   0.725     0.560   0.210        2.1410          0.6500   \n",
      "166     0   0.725     0.575   0.175        2.1240          0.7650   \n",
      "167     0   0.680     0.570   0.205        1.8420          0.6250   \n",
      "181     1   0.640     0.510   0.175        1.3680          0.5150   \n",
      "240     1   0.565     0.425   0.160        0.9425          0.3495   \n",
      "256     1   0.560     0.450   0.185        1.0700          0.3805   \n",
      "277     1   0.610     0.500   0.240        1.6420          0.5320   \n",
      "278     1   0.635     0.525   0.205        1.4840          0.5500   \n",
      "287     0   0.495     0.400   0.155        0.6445          0.2420   \n",
      "290     1   0.540     0.435   0.180        0.9960          0.3835   \n",
      "293     0   0.565     0.455   0.175        1.0130          0.3420   \n",
      "310     0   0.630     0.485   0.190        1.2435          0.4635   \n",
      "312     1   0.595     0.455   0.195        1.3305          0.4595   \n",
      "318     0   0.580     0.455   0.155        0.8365          0.3150   \n",
      "355     1   0.700     0.580   0.205        2.1300          0.7415   \n",
      "357     0   0.645     0.525   0.190        1.8085          0.7035   \n",
      "358     1   0.745     0.585   0.215        2.4990          0.9265   \n",
      "360     1   0.605     0.490   0.180        1.2270          0.4800   \n",
      "362     0   0.650     0.525   0.175        1.4225          0.6100   \n",
      "365     1   0.630     0.515   0.160        1.0160          0.4215   \n",
      "369     0   0.690     0.560   0.215        1.7190          0.6800   \n",
      "...   ...     ...       ...     ...           ...             ...   \n",
      "3166    0   0.640     0.540   0.175        1.5710          0.6270   \n",
      "3193    1   0.565     0.435   0.185        1.0320          0.3540   \n",
      "3195    0   0.545     0.405   0.175        0.9800          0.2585   \n",
      "3202    0   0.620     0.485   0.220        1.5110          0.5095   \n",
      "3203    0   0.635     0.505   0.185        1.3035          0.5010   \n",
      "3222    1   0.520     0.435   0.195        0.9730          0.2985   \n",
      "3237    1   0.635     0.510   0.155        1.1560          0.4280   \n",
      "3244    0   0.690     0.555   0.205        1.8165          0.7785   \n",
      "3259    1   0.640     0.505   0.165        1.4435          0.6145   \n",
      "3263    1   0.565     0.450   0.115        0.9085          0.3980   \n",
      "3271    1   0.520     0.425   0.155        0.7735          0.2970   \n",
      "3274    0   0.500     0.405   0.140        0.6735          0.2650   \n",
      "3279    0   0.655     0.530   0.190        1.4280          0.4930   \n",
      "3297    1   0.645     0.500   0.190        1.2290          0.5240   \n",
      "3312    0   0.505     0.410   0.150        0.6345          0.2430   \n",
      "3319    0   0.705     0.555   0.200        1.4685          0.4715   \n",
      "3360    0   0.580     0.440   0.175        1.0730          0.4005   \n",
      "3373    1   0.540     0.405   0.155        0.9715          0.3225   \n",
      "3381    1   0.545     0.435   0.165        0.9955          0.3245   \n",
      "3387    1   0.545     0.410   0.145        0.8730          0.3035   \n",
      "3392    1   0.645     0.515   0.185        1.4605          0.5835   \n",
      "3396    1   0.605     0.475   0.160        1.6160          0.5495   \n",
      "3401    1   0.480     0.395   0.150        0.6815          0.2145   \n",
      "3863    0   0.655     0.500   0.180        1.4155          0.5080   \n",
      "3865    1   0.525     0.395   0.165        0.7820          0.2850   \n",
      "3897    0   0.615     0.500   0.165        1.1765          0.4880   \n",
      "3918    0   0.645     0.490   0.190        1.3065          0.4790   \n",
      "3924    0   0.500     0.400   0.165        0.7105          0.2700   \n",
      "3930    0   0.670     0.535   0.185        1.5970          0.6275   \n",
      "3944    1   0.550     0.440   0.160        0.9910          0.3480   \n",
      "\n",
      "      Viscera_weight  Shell_weight  Rings  \n",
      "6             0.1415        0.3300     20  \n",
      "9             0.1510        0.3200     19  \n",
      "32            0.3575        0.3500     18  \n",
      "33            0.3925        0.4550     19  \n",
      "72            0.2250        0.4250     20  \n",
      "83            0.2340        0.5800     21  \n",
      "128           0.2635        0.5400     19  \n",
      "129           0.2610        0.7800     18  \n",
      "130           0.2830        0.4100     17  \n",
      "163           0.3980        1.0050     18  \n",
      "166           0.4515        0.8500     20  \n",
      "167           0.4080        0.6500     20  \n",
      "181           0.2660        0.5700     21  \n",
      "240           0.2185        0.2750     17  \n",
      "256           0.1750        0.4100     19  \n",
      "277           0.3345        0.6900     18  \n",
      "278           0.3115        0.4300     20  \n",
      "287           0.1325        0.2050     17  \n",
      "290           0.2260        0.3250     17  \n",
      "293           0.2070        0.3500     19  \n",
      "310           0.3055        0.3900     21  \n",
      "312           0.3235        0.3450     19  \n",
      "318           0.1385        0.3200     18  \n",
      "355           0.4900        0.5800     20  \n",
      "357           0.3885        0.3950     18  \n",
      "358           0.4720        0.7000     17  \n",
      "360           0.2870        0.3500     18  \n",
      "362           0.2995        0.4450     20  \n",
      "365           0.2440        0.3550     19  \n",
      "369           0.2990        0.4700     17  \n",
      "...              ...           ...    ...  \n",
      "3166          0.2710        0.4750     18  \n",
      "3193          0.2045        0.3100     20  \n",
      "3195          0.2070        0.3800     18  \n",
      "3202          0.2840        0.5100     17  \n",
      "3203          0.2950        0.4100     17  \n",
      "3222          0.2135        0.3550     18  \n",
      "3237          0.2890        0.3150     18  \n",
      "3244          0.4395        0.5150     19  \n",
      "3259          0.3035        0.3900     18  \n",
      "3263          0.1970        0.2900     17  \n",
      "3271          0.1230        0.2550     17  \n",
      "3274          0.1240        0.2500     18  \n",
      "3279          0.3180        0.5650     18  \n",
      "3297          0.2780        0.3950     17  \n",
      "3312          0.1335        0.2150     17  \n",
      "3319          0.3235        0.5200     19  \n",
      "3360          0.2345        0.3350     19  \n",
      "3373          0.1940        0.2900     19  \n",
      "3381          0.2665        0.3250     19  \n",
      "3387          0.1960        0.3100     18  \n",
      "3392          0.3155        0.4100     19  \n",
      "3396          0.3320        0.3400     18  \n",
      "3401          0.1405        0.2495     18  \n",
      "3863          0.3140        0.4450     18  \n",
      "3865          0.1405        0.2850     19  \n",
      "3897          0.2440        0.3450     17  \n",
      "3918          0.3565        0.3450     18  \n",
      "3924          0.1455        0.2250     20  \n",
      "3930          0.3500        0.4700     21  \n",
      "3944          0.1680        0.3750     20  \n",
      "\n",
      "[155 rows x 9 columns]\n"
     ]
    },
    {
     "data": {
      "text/plain": [
       "155"
      ]
     },
     "execution_count": 14,
     "metadata": {},
     "output_type": "execute_result"
    }
   ],
   "source": [
    "print(df[(df.Rings == 17)|(df.Rings == 18)|(df.Rings == 19)|(df.Rings == 20)|(df.Rings == 21)])\n",
    "len(df[(df.Rings == 17)|(df.Rings == 18)|(df.Rings == 19)|(df.Rings == 20)|(df.Rings == 21)])"
   ]
  },
  {
   "cell_type": "code",
   "execution_count": 15,
   "metadata": {},
   "outputs": [
    {
     "data": {
      "image/png": "[encoded data removed]",
      "text/plain": [
       "<Figure size 432x288 with 1 Axes>"
      ]
     },
     "metadata": {},
     "output_type": "display_data"
    },
    {
     "data": {
      "text/plain": [
       "<Figure size 432x288 with 0 Axes>"
      ]
     },
     "metadata": {},
     "output_type": "display_data"
    }
   ],
   "source": [
    "fig = plt.figure()\n",
    "fig_dims = (3, 2)\n",
    "plt.subplot2grid(fig_dims, (1, 0))\n",
    "plt.boxplot(df['Rings'])\n",
    "plt.show()\n",
    "plt.savefig('bu.jpg')"
   ]
  },
  {
   "cell_type": "markdown",
   "metadata": {},
   "source": [
    "DISCRETIZZAZIONE DATI BILANCIATI"
   ]
  },
  {
   "cell_type": "code",
   "execution_count": 16,
   "metadata": {},
   "outputs": [
    {
     "data": {
      "text/html": [
       "<div>\n",
       "<style scoped>\n",
       "    .dataframe tbody tr th:only-of-type {\n",
       "        vertical-align: middle;\n",
       "    }\n",
       "\n",
       "    .dataframe tbody tr th {\n",
       "        vertical-align: top;\n",
       "    }\n",
       "\n",
       "    .dataframe thead th {\n",
       "        text-align: right;\n",
       "    }\n",
       "</style>\n",
       "<table border=\"1\" class=\"dataframe\">\n",
       "  <thead>\n",
       "    <tr style=\"text-align: right;\">\n",
       "      <th></th>\n",
       "      <th>Sex</th>\n",
       "      <th>Length</th>\n",
       "      <th>Diameter</th>\n",
       "      <th>Height</th>\n",
       "      <th>Whole_weight</th>\n",
       "      <th>Shucked_weight</th>\n",
       "      <th>Viscera_weight</th>\n",
       "      <th>Shell_weight</th>\n",
       "      <th>Rings</th>\n",
       "      <th>Bin</th>\n",
       "    </tr>\n",
       "  </thead>\n",
       "  <tbody>\n",
       "    <tr>\n",
       "      <th>0</th>\n",
       "      <td>1</td>\n",
       "      <td>0.455</td>\n",
       "      <td>0.365</td>\n",
       "      <td>0.095</td>\n",
       "      <td>0.5140</td>\n",
       "      <td>0.2245</td>\n",
       "      <td>0.1010</td>\n",
       "      <td>0.150</td>\n",
       "      <td>15</td>\n",
       "      <td>11-29</td>\n",
       "    </tr>\n",
       "    <tr>\n",
       "      <th>1</th>\n",
       "      <td>1</td>\n",
       "      <td>0.350</td>\n",
       "      <td>0.265</td>\n",
       "      <td>0.090</td>\n",
       "      <td>0.2255</td>\n",
       "      <td>0.0995</td>\n",
       "      <td>0.0485</td>\n",
       "      <td>0.070</td>\n",
       "      <td>7</td>\n",
       "      <td>3-10</td>\n",
       "    </tr>\n",
       "    <tr>\n",
       "      <th>2</th>\n",
       "      <td>0</td>\n",
       "      <td>0.530</td>\n",
       "      <td>0.420</td>\n",
       "      <td>0.135</td>\n",
       "      <td>0.6770</td>\n",
       "      <td>0.2565</td>\n",
       "      <td>0.1415</td>\n",
       "      <td>0.210</td>\n",
       "      <td>9</td>\n",
       "      <td>3-10</td>\n",
       "    </tr>\n",
       "    <tr>\n",
       "      <th>3</th>\n",
       "      <td>1</td>\n",
       "      <td>0.440</td>\n",
       "      <td>0.365</td>\n",
       "      <td>0.125</td>\n",
       "      <td>0.5160</td>\n",
       "      <td>0.2155</td>\n",
       "      <td>0.1140</td>\n",
       "      <td>0.155</td>\n",
       "      <td>10</td>\n",
       "      <td>3-10</td>\n",
       "    </tr>\n",
       "    <tr>\n",
       "      <th>6</th>\n",
       "      <td>0</td>\n",
       "      <td>0.530</td>\n",
       "      <td>0.415</td>\n",
       "      <td>0.150</td>\n",
       "      <td>0.7775</td>\n",
       "      <td>0.2370</td>\n",
       "      <td>0.1415</td>\n",
       "      <td>0.330</td>\n",
       "      <td>20</td>\n",
       "      <td>11-29</td>\n",
       "    </tr>\n",
       "  </tbody>\n",
       "</table>\n",
       "</div>"
      ],
      "text/plain": [
       "   Sex  Length  Diameter  Height  Whole_weight  Shucked_weight  \\\n",
       "0    1   0.455     0.365   0.095        0.5140          0.2245   \n",
       "1    1   0.350     0.265   0.090        0.2255          0.0995   \n",
       "2    0   0.530     0.420   0.135        0.6770          0.2565   \n",
       "3    1   0.440     0.365   0.125        0.5160          0.2155   \n",
       "6    0   0.530     0.415   0.150        0.7775          0.2370   \n",
       "\n",
       "   Viscera_weight  Shell_weight  Rings    Bin  \n",
       "0          0.1010         0.150     15  11-29  \n",
       "1          0.0485         0.070      7   3-10  \n",
       "2          0.1415         0.210      9   3-10  \n",
       "3          0.1140         0.155     10   3-10  \n",
       "6          0.1415         0.330     20  11-29  "
      ]
     },
     "execution_count": 16,
     "metadata": {},
     "output_type": "execute_result"
    }
   ],
   "source": [
    "rings_values = list(df['Rings']) #put values of the attribute in a list\n",
    "rings_bins = [] \n",
    "for number_rings in rings_values:\n",
    "    if number_rings <= 10:\n",
    "        rings_bins.append(\"3-10\") #first class\n",
    "    else:\n",
    "        rings_bins.append(\"11-29\") #second class\n",
    "df['Bin'] = rings_bins # new column of dataset divided by the value of the median\n",
    "df.head()"
   ]
  },
  {
   "cell_type": "code",
   "execution_count": 17,
   "metadata": {},
   "outputs": [
    {
     "name": "stdout",
     "output_type": "stream",
     "text": [
      "0.5442680776014109\n",
      "0.45573192239858906\n"
     ]
    }
   ],
   "source": [
    "first= len(df[df.Bin == '3-10'])\n",
    "second= len(df[df.Bin == '11-29'])\n",
    "perc_first= float(first)/float(len(df))\n",
    "perc_second = float(second)/float(len(df))\n",
    "print(perc_first)\n",
    "print(perc_second)"
   ]
  },
  {
   "cell_type": "markdown",
   "metadata": {},
   "source": [
    "DISCRETIZZAZIONE DATI NON BILANCIATI"
   ]
  },
  {
   "cell_type": "code",
   "execution_count": 18,
   "metadata": {},
   "outputs": [],
   "source": [
    "#new df with rings values\n",
    "df_imbalanced = df.copy()"
   ]
  },
  {
   "cell_type": "code",
   "execution_count": 19,
   "metadata": {},
   "outputs": [
    {
     "data": {
      "text/html": [
       "<div>\n",
       "<style scoped>\n",
       "    .dataframe tbody tr th:only-of-type {\n",
       "        vertical-align: middle;\n",
       "    }\n",
       "\n",
       "    .dataframe tbody tr th {\n",
       "        vertical-align: top;\n",
       "    }\n",
       "\n",
       "    .dataframe thead th {\n",
       "        text-align: right;\n",
       "    }\n",
       "</style>\n",
       "<table border=\"1\" class=\"dataframe\">\n",
       "  <thead>\n",
       "    <tr style=\"text-align: right;\">\n",
       "      <th></th>\n",
       "      <th>Sex</th>\n",
       "      <th>Length</th>\n",
       "      <th>Diameter</th>\n",
       "      <th>Height</th>\n",
       "      <th>Whole_weight</th>\n",
       "      <th>Shucked_weight</th>\n",
       "      <th>Viscera_weight</th>\n",
       "      <th>Shell_weight</th>\n",
       "      <th>Rings</th>\n",
       "      <th>Bin</th>\n",
       "    </tr>\n",
       "  </thead>\n",
       "  <tbody>\n",
       "    <tr>\n",
       "      <th>0</th>\n",
       "      <td>1</td>\n",
       "      <td>0.455</td>\n",
       "      <td>0.365</td>\n",
       "      <td>0.095</td>\n",
       "      <td>0.5140</td>\n",
       "      <td>0.2245</td>\n",
       "      <td>0.1010</td>\n",
       "      <td>0.150</td>\n",
       "      <td>15</td>\n",
       "      <td>15-29</td>\n",
       "    </tr>\n",
       "    <tr>\n",
       "      <th>1</th>\n",
       "      <td>1</td>\n",
       "      <td>0.350</td>\n",
       "      <td>0.265</td>\n",
       "      <td>0.090</td>\n",
       "      <td>0.2255</td>\n",
       "      <td>0.0995</td>\n",
       "      <td>0.0485</td>\n",
       "      <td>0.070</td>\n",
       "      <td>7</td>\n",
       "      <td>3-14</td>\n",
       "    </tr>\n",
       "    <tr>\n",
       "      <th>2</th>\n",
       "      <td>0</td>\n",
       "      <td>0.530</td>\n",
       "      <td>0.420</td>\n",
       "      <td>0.135</td>\n",
       "      <td>0.6770</td>\n",
       "      <td>0.2565</td>\n",
       "      <td>0.1415</td>\n",
       "      <td>0.210</td>\n",
       "      <td>9</td>\n",
       "      <td>3-14</td>\n",
       "    </tr>\n",
       "    <tr>\n",
       "      <th>3</th>\n",
       "      <td>1</td>\n",
       "      <td>0.440</td>\n",
       "      <td>0.365</td>\n",
       "      <td>0.125</td>\n",
       "      <td>0.5160</td>\n",
       "      <td>0.2155</td>\n",
       "      <td>0.1140</td>\n",
       "      <td>0.155</td>\n",
       "      <td>10</td>\n",
       "      <td>3-14</td>\n",
       "    </tr>\n",
       "    <tr>\n",
       "      <th>6</th>\n",
       "      <td>0</td>\n",
       "      <td>0.530</td>\n",
       "      <td>0.415</td>\n",
       "      <td>0.150</td>\n",
       "      <td>0.7775</td>\n",
       "      <td>0.2370</td>\n",
       "      <td>0.1415</td>\n",
       "      <td>0.330</td>\n",
       "      <td>20</td>\n",
       "      <td>15-29</td>\n",
       "    </tr>\n",
       "  </tbody>\n",
       "</table>\n",
       "</div>"
      ],
      "text/plain": [
       "   Sex  Length  Diameter  Height  Whole_weight  Shucked_weight  \\\n",
       "0    1   0.455     0.365   0.095        0.5140          0.2245   \n",
       "1    1   0.350     0.265   0.090        0.2255          0.0995   \n",
       "2    0   0.530     0.420   0.135        0.6770          0.2565   \n",
       "3    1   0.440     0.365   0.125        0.5160          0.2155   \n",
       "6    0   0.530     0.415   0.150        0.7775          0.2370   \n",
       "\n",
       "   Viscera_weight  Shell_weight  Rings    Bin  \n",
       "0          0.1010         0.150     15  15-29  \n",
       "1          0.0485         0.070      7   3-14  \n",
       "2          0.1415         0.210      9   3-14  \n",
       "3          0.1140         0.155     10   3-14  \n",
       "6          0.1415         0.330     20  15-29  "
      ]
     },
     "execution_count": 19,
     "metadata": {},
     "output_type": "execute_result"
    }
   ],
   "source": [
    "rings_column = list(df_imbalanced['Rings'])\n",
    "rings_bins = []\n",
    "for number_rings in rings_column:\n",
    "    if number_rings <= 14:\n",
    "        rings_bins.append(\"3-14\")\n",
    "    else:\n",
    "        rings_bins.append(\"15-29\")\n",
    "df_imbalanced['Bin'] = rings_bins\n",
    "df_imbalanced.head()"
   ]
  },
  {
   "cell_type": "code",
   "execution_count": 20,
   "metadata": {},
   "outputs": [
    {
     "name": "stdout",
     "output_type": "stream",
     "text": [
      "0.8835978835978836\n",
      "0.1164021164021164\n"
     ]
    }
   ],
   "source": [
    "first_I= len(df_imbalanced[df_imbalanced.Bin == \"3-14\"])\n",
    "second_I= len(df_imbalanced[df_imbalanced.Bin == \"15-29\"])\n",
    "perc_first_I= float(first_I)/float(len(df_imbalanced))\n",
    "perc_second_I = float(second_I)/float(len(df_imbalanced))\n",
    "print(perc_first_I)\n",
    "print(perc_second_I)"
   ]
  },
  {
   "cell_type": "code",
   "execution_count": 21,
   "metadata": {},
   "outputs": [],
   "source": [
    "df_train = df.values #Convert the DataFrame to a numpy array --> balanced\n",
    "train_target = df_train[:, 9] #column bin\n",
    "train_rings = df_train[:, 8] # column rings\n",
    "train_features = df_train[:,:8] # Training data features, skip the column 'Bin'\n",
    "\n",
    "Imbalanced = df_imbalanced.values #Convert the DataFrame to a numpy array --> imbalanced\n",
    "train_features_imbalanced = Imbalanced[:,:8]\n",
    "train_rings_imbalanced = Imbalanced[:, 8]\n",
    "train_target_imbalanced = Imbalanced[:, 9]"
   ]
  },
  {
   "cell_type": "code",
   "execution_count": 22,
   "metadata": {},
   "outputs": [
    {
     "name": "stdout",
     "output_type": "stream",
     "text": [
      "[1 0.455 0.365 0.095 0.514 0.2245 0.10099999999999999 0.15]\n",
      "15-29\n"
     ]
    }
   ],
   "source": [
    "#OVERSAMPLING SULLA CLASSE DI MINORANZA (15-29)\n",
    "from collections import Counter\n",
    "from sklearn.datasets import make_classification\n",
    "from imblearn.over_sampling import SMOTE\n",
    "print(train_features_imbalanced[0])\n",
    "print(train_target_imbalanced[0])"
   ]
  },
  {
   "cell_type": "code",
   "execution_count": 23,
   "metadata": {},
   "outputs": [],
   "source": [
    "sm = SMOTE(ratio = {\"15-29\":1800})\n",
    "trainfSMO, traintSMO = sm.fit_sample(train_features_imbalanced, train_target_imbalanced)"
   ]
  },
  {
   "cell_type": "code",
   "execution_count": 24,
   "metadata": {},
   "outputs": [
    {
     "name": "stdout",
     "output_type": "stream",
     "text": [
      "2835\n"
     ]
    }
   ],
   "source": [
    "print(len(train_features_imbalanced))"
   ]
  },
  {
   "cell_type": "markdown",
   "metadata": {},
   "source": [
    "print(len(trainfSMO))\n",
    "print(len(traintSMO))"
   ]
  },
  {
   "cell_type": "markdown",
   "metadata": {
    "collapsed": true
   },
   "source": [
    "## Support Vector Machine"
   ]
  },
  {
   "cell_type": "code",
   "execution_count": 28,
   "metadata": {},
   "outputs": [],
   "source": [
    "from sklearn import svm\n",
    "clf = svm.SVC()"
   ]
  },
  {
   "cell_type": "code",
   "execution_count": 29,
   "metadata": {},
   "outputs": [],
   "source": [
    "x_train_bal, x_test_bal, y_train_bal, y_test_bal = train_test_split(train_features, train_target, test_size = 0.20, random_state = 0)"
   ]
  },
  {
   "cell_type": "markdown",
   "metadata": {},
   "source": [
    "GRID SEARCH"
   ]
  },
  {
   "cell_type": "code",
   "execution_count": 30,
   "metadata": {},
   "outputs": [],
   "source": [
    "param_dist = {\n",
    "    'kernel' : ['rbf'],\n",
    "    'gamma': [0.001, 0.01, 0.1, 1],\n",
    "    'C' : [0.001, 0.01, 0.1, 1, 10]\n",
    "}\n",
    "search = GridSearchCV(clf, param_grid=param_dist, n_jobs=10)\n",
    "\n",
    "#GridSearchCV implements a “fit” and a “score” method. \n",
    "#Parametri:\n",
    "#1) estimator\n",
    "#2) param_grid= Dictionary with parameters names (string) as keys and lists of parameter settings to try as values, or a list of such dictionaries, in which case the grids spanned by each dictionary in the list are explored. \n",
    "#This enables searching over any sequence of parameter settings.\n",
    "#3) Number of jobs to run in parallel."
   ]
  },
  {
   "cell_type": "code",
   "execution_count": 31,
   "metadata": {},
   "outputs": [
    {
     "data": {
      "text/plain": [
       "GridSearchCV(cv=None, error_score='raise',\n",
       "       estimator=SVC(C=1.0, cache_size=200, class_weight=None, coef0=0.0,\n",
       "  decision_function_shape='ovr', degree=3, gamma='auto', kernel='rbf',\n",
       "  max_iter=-1, probability=False, random_state=None, shrinking=True,\n",
       "  tol=0.001, verbose=False),\n",
       "       fit_params=None, iid=True, n_jobs=10,\n",
       "       param_grid={'kernel': ['rbf'], 'gamma': [0.001, 0.01, 0.1, 1], 'C': [0.001, 0.01, 0.1, 1, 10]},\n",
       "       pre_dispatch='2*n_jobs', refit=True, return_train_score='warn',\n",
       "       scoring=None, verbose=0)"
      ]
     },
     "execution_count": 31,
     "metadata": {},
     "output_type": "execute_result"
    }
   ],
   "source": [
    "search.fit(x_train_bal, y_train_bal)"
   ]
  },
  {
   "cell_type": "code",
   "execution_count": 32,
   "metadata": {},
   "outputs": [],
   "source": [
    "def report(results, n_top=3): #function from the file of the data mining course\n",
    "    for i in range(1, n_top + 1):\n",
    "        candidates = np.flatnonzero(results['rank_test_score'] == i)\n",
    "        for candidate in candidates:\n",
    "            print(\"Model with rank: {0}\".format(i))\n",
    "            print(\"Mean validation score: {0:.3f} (std: {1:.3f})\".format(\n",
    "                  results['mean_test_score'][candidate],\n",
    "                  results['std_test_score'][candidate]))\n",
    "            print(\"Parameters: {0}\".format(results['params'][candidate]))\n",
    "            print(\"\")"
   ]
  },
  {
   "cell_type": "code",
   "execution_count": 33,
   "metadata": {},
   "outputs": [
    {
     "name": "stdout",
     "output_type": "stream",
     "text": [
      "Model with rank: 1\n",
      "Mean validation score: 0.731 (std: 0.003)\n",
      "Parameters: {'C': 10, 'gamma': 1, 'kernel': 'rbf'}\n",
      "\n",
      "Model with rank: 2\n",
      "Mean validation score: 0.710 (std: 0.007)\n",
      "Parameters: {'C': 10, 'gamma': 0.1, 'kernel': 'rbf'}\n",
      "\n",
      "Model with rank: 3\n",
      "Mean validation score: 0.707 (std: 0.011)\n",
      "Parameters: {'C': 1, 'gamma': 1, 'kernel': 'rbf'}\n",
      "\n"
     ]
    }
   ],
   "source": [
    "report(search.cv_results_)"
   ]
  },
  {
   "cell_type": "code",
   "execution_count": 34,
   "metadata": {},
   "outputs": [],
   "source": [
    "x_train_imb, x_test_imb, y_train_imb, y_test_imb = train_test_split(train_features_imbalanced, train_target_imbalanced, test_size = 0.20, random_state = 0)"
   ]
  },
  {
   "cell_type": "markdown",
   "metadata": {
    "collapsed": true
   },
   "source": [
    "IMBALANCED DATA"
   ]
  },
  {
   "cell_type": "code",
   "execution_count": 35,
   "metadata": {},
   "outputs": [
    {
     "name": "stdout",
     "output_type": "stream",
     "text": [
      "class: 3-14 n. samples: 2505 perc: 0.8835978835978836 \n",
      "\n",
      "class: 15-29 n. samples: 330 perc: 0.1164021164021164 \n",
      "\n",
      "Accuracy: 0.89 (+/- 0.01)\n",
      "0.8937370862734395\n",
      "0.005135939444008576\n"
     ]
    }
   ],
   "source": [
    "#dati sbilanciati SENZA oversampling\n",
    "clfimb = svm.SVC(C=10, gamma = 1, kernel='rbf') #default parameter --> http://scikit-learn.org/stable/modules/generated/sklearn.svm.SVC.html\n",
    "\n",
    "scoresimb = cross_validation.cross_val_score(clfimb, x_train_imb, y_train_imb, cv=5) \n",
    "\n",
    "#formula presa dal file del professore: vedi sotto \n",
    "#scores = cross_validation.cross_val_score(clf, train_features, train_target, cv=10) \n",
    "#utilizzo: Evaluate a score by cross-validation. \n",
    "#Parametri: \n",
    "#1) The object to use to fit the data.\n",
    "#2) The data to fit.\n",
    "#3) The target variable to try to predict in the case of supervised learning\n",
    "#4) cv:  int, cross-validation generator or an iterable. Determines the cross-validation splitting strategy\n",
    "\n",
    "print('class: 3-14', 'n. samples:', first_I , 'perc:', perc_first_I, '\\n')\n",
    "print('class: 15-29', 'n. samples:', second_I, 'perc:', perc_second_I, '\\n')\n",
    "print(\"Accuracy: %0.2f (+/- %0.2f)\" % (scoresimb.mean(), scoresimb.std() * 2))\n",
    "print(scoresimb.mean())\n",
    "print(scoresimb.std())"
   ]
  },
  {
   "cell_type": "code",
   "execution_count": 36,
   "metadata": {},
   "outputs": [],
   "source": [
    "x_trainfSMO, x_testSMO, y_traintSMO, y_testSMO = train_test_split(trainfSMO, traintSMO, test_size = 0.20, random_state = 0)"
   ]
  },
  {
   "cell_type": "code",
   "execution_count": 37,
   "metadata": {},
   "outputs": [
    {
     "name": "stdout",
     "output_type": "stream",
     "text": [
      "majority class: 3-15 n. samples: 2505 perc: 0.8835978835978836 \n",
      "\n",
      "minority class (oversampled): 16-29 n. samples:1800\n",
      "\n",
      "Accuracy: 0.81 (+/- 0.03)\n"
     ]
    }
   ],
   "source": [
    "#CLASSI BILANCIATE con OVERSAMPLING\n",
    "clfSMO = svm.SVC(C=10, gamma = 1, kernel='rbf') #default parameter --> http://scikit-learn.org/stable/modules/generated/sklearn.svm.SVC.html\n",
    "\n",
    "scoresSMO = cross_validation.cross_val_score(clfSMO, x_trainfSMO,y_traintSMO, cv=5) \n",
    "\n",
    "#formula presa dal file del professore: vedi sotto\n",
    "#scores = cross_validation.cross_val_score(clf, train_features, train_target, cv=10) \n",
    "#utilizzo: Evaluate a score by cross-validation. \n",
    "#Parametri: \n",
    "#1) The object to use to fit the data.\n",
    "#2) The data to fit.\n",
    "#3) The target variable to try to predict in the case of supervised learning\n",
    "#4) cv:  int, cross-validation generator or an iterable. Determines the cross-validation splitting strategy\n",
    "\n",
    "\n",
    "print('majority class: 3-15', 'n. samples:', first_I , 'perc:', perc_first_I, '\\n')\n",
    "print('minority class (oversampled): 16-29', 'n. samples:1800' '\\n')\n",
    "print(\"Accuracy: %0.2f (+/- %0.2f)\" % (scoresSMO.mean(), scoresSMO.std() * 2))"
   ]
  },
  {
   "cell_type": "code",
   "execution_count": 38,
   "metadata": {},
   "outputs": [],
   "source": [
    "import itertools    \n",
    "def plot_confusion_matrix(cm, classes,\n",
    "                              normalize=False,\n",
    "                              title='Confusion matrix',\n",
    "                              cmap=plt.cm.Oranges):\n",
    "        import itertools\n",
    "        plt.imshow(cm, interpolation='nearest', cmap=cmap)\n",
    "        plt.title(title)\n",
    "        plt.colorbar()\n",
    "        tick_marks = np.arange(len(classes))\n",
    "        plt.xticks(tick_marks, classes, rotation=45)\n",
    "        plt.yticks(tick_marks, classes)\n",
    "\n",
    "        if normalize:\n",
    "            cm = cm.astype('float') / cm.sum(axis=1)[:, np.newaxis]\n",
    "            print(\"Normalized confusion matrix\")\n",
    "        else:\n",
    "            print('Confusion matrix, without normalization')\n",
    "\n",
    "        print(cm)\n",
    "\n",
    "        thresh = cm.max() / 2.\n",
    "        for i, j in itertools.product(range(cm.shape[0]), range(cm.shape[1])):\n",
    "            plt.text(j, i, cm[i, j],\n",
    "                     horizontalalignment=\"center\",\n",
    "                     color=\"white\" if cm[i, j] > thresh else \"black\")\n",
    "\n",
    "        plt.tight_layout()\n",
    "        plt.ylabel('True label')\n",
    "        plt.xlabel('Predicted label')"
   ]
  },
  {
   "cell_type": "code",
   "execution_count": 39,
   "metadata": {},
   "outputs": [
    {
     "name": "stdout",
     "output_type": "stream",
     "text": [
      "Accuracy:  0.8972663139329806\n",
      "Confusion matrix, without normalization\n",
      "[[  26  228]\n",
      " [   5 2009]]\n"
     ]
    },
    {
     "data": {
      "image/png": "[encoded data removed]",
      "text/plain": [
       "<Figure size 432x288 with 2 Axes>"
      ]
     },
     "metadata": {},
     "output_type": "display_data"
    }
   ],
   "source": [
    "#CLASSI SENZA OVERSAMPLING\n",
    "clfimb.fit(x_train_imb,y_train_imb)\n",
    "predicted_imbalanced = clfimb.predict(x_train_imb)\n",
    "print(\"Accuracy: \", accuracy_score(y_train_imb, predicted_imbalanced))\n",
    "classes= ['15-29', '3-14']\n",
    "cmimb = confusion_matrix(y_train_imb, predicted_imbalanced)\n",
    "plot_confusion_matrix(cmimb, classes=classes, title=\"Confusion Matrix of Unbalanced Data SVM\")"
   ]
  },
  {
   "cell_type": "code",
   "execution_count": 40,
   "metadata": {},
   "outputs": [
    {
     "name": "stdout",
     "output_type": "stream",
     "text": [
      "Accuracy:  0.8124274099883856\n",
      "Confusion matrix, without normalization\n",
      "[[1075  371]\n",
      " [ 275 1723]]\n"
     ]
    },
    {
     "data": {
      "image/png": "[encoded data removed]",
      "text/plain": [
       "<Figure size 432x288 with 2 Axes>"
      ]
     },
     "metadata": {},
     "output_type": "display_data"
    }
   ],
   "source": [
    "#CLASSI CON OVERSAMPLING\n",
    "clfSMO.fit(x_trainfSMO,y_traintSMO)\n",
    "predictedSMO = clfSMO.predict(x_trainfSMO)\n",
    "print(\"Accuracy: \", accuracy_score(y_traintSMO, predictedSMO))\n",
    "classes= ['15-29', '3-14']\n",
    "cmSMO = confusion_matrix(y_traintSMO, predictedSMO)\n",
    "plot_confusion_matrix(cmSMO, classes=classes, title=\"Confusion Matrix of Oversampled Data SVM\")"
   ]
  },
  {
   "cell_type": "markdown",
   "metadata": {
    "collapsed": true
   },
   "source": [
    "BALANCED DATA"
   ]
  },
  {
   "cell_type": "code",
   "execution_count": 41,
   "metadata": {},
   "outputs": [
    {
     "name": "stdout",
     "output_type": "stream",
     "text": [
      "class: 3-10 n. samples: 1543 perc: 0.5442680776014109 \n",
      "\n",
      "class: 11-29 n. samples: 1292 perc: 0.45573192239858906 \n",
      "\n",
      "Accuracy: 0.73 (+/- 0.03)\n"
     ]
    }
   ],
   "source": [
    "clfbal = svm.SVC(C=10, gamma = 1, kernel='rbf')\n",
    "scoresbal = cross_val_score(clfbal, x_train_bal, y_train_bal, cv=5)\n",
    "print('class: 3-10', 'n. samples:', first, 'perc:', perc_first, '\\n')\n",
    "print('class: 11-29', 'n. samples:', second, 'perc:', perc_second, '\\n')\n",
    "print(\"Accuracy: %0.2f (+/- %0.2f)\" % (scoresbal.mean(), scoresbal.std() * 2))"
   ]
  },
  {
   "cell_type": "code",
   "execution_count": 42,
   "metadata": {},
   "outputs": [
    {
     "name": "stdout",
     "output_type": "stream",
     "text": [
      "Accuracy:  0.7350088183421517\n",
      "Confusion matrix, without normalization\n",
      "[[677 347]\n",
      " [254 990]]\n"
     ]
    },
    {
     "data": {
      "image/png": "[encoded data removed]",
      "text/plain": [
       "<Figure size 432x288 with 2 Axes>"
      ]
     },
     "metadata": {},
     "output_type": "display_data"
    }
   ],
   "source": [
    "#Confusion Matrix\n",
    "clfbal.fit(x_train_bal,y_train_bal)\n",
    "predicted_balanced = clfbal.predict(x_train_bal)\n",
    "print(\"Accuracy: \", accuracy_score(y_train_bal, predicted_balanced))\n",
    "classes= ['3-10', '11-29']\n",
    "cmbal = confusion_matrix(y_train_bal, predicted_balanced)\n",
    "plot_confusion_matrix(cmbal, classes=classes, title=\"Confusion Matrix of Balanced Data SVM\")"
   ]
  },
  {
   "cell_type": "code",
   "execution_count": 43,
   "metadata": {},
   "outputs": [],
   "source": [
    "def plot_learning_curve(estimator, title, X, y, ylim=None, cv=None,\n",
    "                        n_jobs=1, train_sizes=np.linspace(.1, 1.0, 5)):\n",
    "\n",
    "    plt.figure()\n",
    "    plt.title(title)\n",
    "    if ylim is not None:\n",
    "        plt.ylim(*ylim)\n",
    "    plt.xlabel(\"Training examples\")\n",
    "    plt.ylabel(\"Score\")\n",
    "    train_sizes, train_scores, test_scores = learning_curve(\n",
    "        estimator, X, y, cv=cv, n_jobs=n_jobs, train_sizes=train_sizes)\n",
    "    train_scores_mean = np.mean(train_scores, axis=1)\n",
    "    train_scores_std = np.std(train_scores, axis=1)\n",
    "    test_scores_mean = np.mean(test_scores, axis=1)\n",
    "    test_scores_std = np.std(test_scores, axis=1)\n",
    "    plt.grid()\n",
    "\n",
    "    plt.fill_between(train_sizes, train_scores_mean - train_scores_std,\n",
    "                     train_scores_mean + train_scores_std, alpha=0.1,\n",
    "                     color=\"r\")\n",
    "    plt.fill_between(train_sizes, test_scores_mean - test_scores_std,\n",
    "                     test_scores_mean + test_scores_std, alpha=0.1, color=\"g\")\n",
    "    plt.plot(train_sizes, train_scores_mean, 'o-', color=\"r\",\n",
    "             label=\"Training score\")\n",
    "    plt.plot(train_sizes, test_scores_mean, 'o-', color=\"g\",\n",
    "             label=\"Cross-validation score\")\n",
    "\n",
    "    plt.legend(loc=\"best\")\n",
    "    return plt"
   ]
  },
  {
   "cell_type": "raw",
   "metadata": {},
   "source": [
    "#Learning Curve\n",
    "######\n",
    "#COMMENTO NEL FILE DEL PROFESSORE\n",
    "# Learning Curve  -- with ROC AUC as performance measure\n",
    "#    for predefined L.C. see: http://scikit-learn.org/stable/modules/learning_curve.html#learning-curve\n",
    "#######\n",
    "\n",
    "#PER QUESTO LA FUNZIONE é STATA PRESA DA QUI: \n",
    "#http://scikit-learn.org/stable/auto_examples/model_selection/plot_learning_curve.html#sphx-glr-auto-examples-model-selection-plot-learning-curve-py"
   ]
  },
  {
   "cell_type": "code",
   "execution_count": 44,
   "metadata": {
    "scrolled": true
   },
   "outputs": [
    {
     "data": {
      "text/plain": [
       "<module 'matplotlib.pyplot' from 'C:\\\\Users\\\\virgi\\\\AppData\\\\Local\\\\Continuum\\\\anaconda3\\\\lib\\\\site-packages\\\\matplotlib\\\\pyplot.py'>"
      ]
     },
     "execution_count": 44,
     "metadata": {},
     "output_type": "execute_result"
    },
    {
     "data": {
      "image/png": "[encoded data removed]",
      "text/plain": [
       "<Figure size 432x288 with 1 Axes>"
      ]
     },
     "metadata": {},
     "output_type": "display_data"
    }
   ],
   "source": [
    "#LEARNING CURVE IMBALANCED (SENZA OVERSAMPLING)\n",
    "plot_learning_curve(estimator = svm.SVC(gamma=1,C=10), title=\"Learning Curve Imbalanced Data\", X=x_train_imb, y=y_train_imb, train_sizes=np.linspace(.1, 1.0, 10))"
   ]
  },
  {
   "cell_type": "code",
   "execution_count": 45,
   "metadata": {},
   "outputs": [
    {
     "data": {
      "text/plain": [
       "<module 'matplotlib.pyplot' from 'C:\\\\Users\\\\virgi\\\\AppData\\\\Local\\\\Continuum\\\\anaconda3\\\\lib\\\\site-packages\\\\matplotlib\\\\pyplot.py'>"
      ]
     },
     "execution_count": 45,
     "metadata": {},
     "output_type": "execute_result"
    },
    {
     "data": {
      "image/png": "[encoded data removed]",
      "text/plain": [
       "<Figure size 432x288 with 1 Axes>"
      ]
     },
     "metadata": {},
     "output_type": "display_data"
    }
   ],
   "source": [
    "#LEARNING CURVE IMBALANCED ( DOPO OVERSAMPLING)\n",
    "plot_learning_curve(estimator = svm.SVC(gamma=1,C=10), title=\"Learning Curve Oversampled Data\", X=x_trainfSMO, y=y_traintSMO, train_sizes=np.linspace(.1, 1.0, 10))"
   ]
  },
  {
   "cell_type": "code",
   "execution_count": 46,
   "metadata": {},
   "outputs": [
    {
     "data": {
      "text/plain": [
       "<module 'matplotlib.pyplot' from 'C:\\\\Users\\\\virgi\\\\AppData\\\\Local\\\\Continuum\\\\anaconda3\\\\lib\\\\site-packages\\\\matplotlib\\\\pyplot.py'>"
      ]
     },
     "execution_count": 46,
     "metadata": {},
     "output_type": "execute_result"
    },
    {
     "data": {
      "image/png": "[encoded data removed]",
      "text/plain": [
       "<Figure size 432x288 with 1 Axes>"
      ]
     },
     "metadata": {},
     "output_type": "display_data"
    }
   ],
   "source": [
    "plot_learning_curve(estimator = svm.SVC(gamma=1,C=10), title=\"Learning Curve Balanced Data\", X=x_train_bal, y=y_train_bal, train_sizes=np.linspace(.1, 1.0, 10))"
   ]
  },
  {
   "cell_type": "code",
   "execution_count": 47,
   "metadata": {},
   "outputs": [
    {
     "data": {
      "text/plain": [
       "(2835,)"
      ]
     },
     "execution_count": 47,
     "metadata": {},
     "output_type": "execute_result"
    }
   ],
   "source": [
    "train_target_imbalanced.shape\n"
   ]
  },
  {
   "cell_type": "code",
   "execution_count": 48,
   "metadata": {},
   "outputs": [
    {
     "data": {
      "text/plain": [
       "(4305, 8)"
      ]
     },
     "execution_count": 48,
     "metadata": {},
     "output_type": "execute_result"
    }
   ],
   "source": [
    "trainfSMO.shape"
   ]
  },
  {
   "cell_type": "code",
   "execution_count": 51,
   "metadata": {},
   "outputs": [
    {
     "data": {
      "image/png": "[encoded data removed]",
      "text/plain": [
       "<Figure size 432x288 with 1 Axes>"
      ]
     },
     "metadata": {},
     "output_type": "display_data"
    }
   ],
   "source": [
    "from sklearn.metrics import roc_curve, auc\n",
    "import seaborn as sns\n",
    "\n",
    "targetbal = pd.Categorical(y_train_bal).rename_categories([0,1])\n",
    "predictedbal = pd.Categorical(predicted_balanced).rename_categories([0,1])\n",
    "fprbal, tprbal, _ =  roc_curve(targetbal, predictedbal)\n",
    "roc_auc = auc(fprbal, tprbal)\n",
    "\n",
    "targetSMO = pd.Categorical(y_traintSMO).rename_categories([0,1])\n",
    "predictedSMO = pd.Categorical(predictedSMO).rename_categories([0,1])\n",
    "fprSMO, tprSMO, _ =  roc_curve(targetSMO, predictedSMO)\n",
    "roc_auc2 = auc(fprSMO, tprSMO)\n",
    "\n",
    "targetimb = pd.Categorical(y_train_imb).rename_categories([0,1])\n",
    "predictedimb = pd.Categorical(predicted_imbalanced).rename_categories([0,1])\n",
    "fprimb, tprimb, _ =  roc_curve(targetimb, predictedimb)\n",
    "roc_auc3 = auc(fprimb, tprimb)\n",
    "\n",
    " \n",
    "sns.set_style(\"darkgrid\")\n",
    "plt.plot(fprbal,tprbal, label='ROC curve Balanced Data (area = %0.2f)' % roc_auc)\n",
    "plt.plot(fprSMO,tprSMO, label='ROC curve Oversampled Data (area = %0.2f)' % roc_auc2)\n",
    "plt.plot(fprimb,tprimb, label='ROC curve Imbalanced Data (area = %0.2f)' % roc_auc3)\n",
    "\n",
    "plt.title(\"ROC Curves SVM\")\n",
    "\n",
    "plt.legend(loc=\"lower right\")\n",
    "plt.show()"
   ]
  },
  {
   "cell_type": "markdown",
   "metadata": {},
   "source": [
    "**********************KNN*******************************"
   ]
  },
  {
   "cell_type": "code",
   "execution_count": 53,
   "metadata": {},
   "outputs": [],
   "source": [
    "#\n",
    "# k-NN\n",
    "#\n",
    "from sklearn.neighbors import KNeighborsClassifier\n",
    "from sklearn import neighbors\n",
    "import numpy as np"
   ]
  },
  {
   "cell_type": "code",
   "execution_count": 54,
   "metadata": {},
   "outputs": [
    {
     "name": "stdout",
     "output_type": "stream",
     "text": [
      "[2, 3, 4, 5, 6, 7, 8, 9, 10, 11, 12, 13, 14, 15, 16, 17, 18, 19, 20, 21, 22, 23, 24, 25, 26, 27, 28, 29, 30]\n"
     ]
    }
   ],
   "source": [
    "knn = KNeighborsClassifier()\n",
    "k_range = list(range(2, 31))\n",
    "print(k_range)"
   ]
  },
  {
   "cell_type": "code",
   "execution_count": 58,
   "metadata": {},
   "outputs": [
    {
     "name": "stdout",
     "output_type": "stream",
     "text": [
      "{'n_neighbors': [2, 3, 4, 5, 6, 7, 8, 9, 10, 11, 12, 13, 14, 15, 16, 17, 18, 19, 20, 21, 22, 23, 24, 25, 26, 27, 28, 29, 30]}\n"
     ]
    }
   ],
   "source": [
    "# create a parameter grid: map the parameter names to the values that should be searched\n",
    "# simply a python dictionary\n",
    "# key: parameter name\n",
    "# value: list of values that should be searched for that parameter\n",
    "# single key-value pair for param_grid\n",
    "param_grid = dict(n_neighbors=k_range)\n",
    "print(param_grid)"
   ]
  },
  {
   "cell_type": "code",
   "execution_count": 59,
   "metadata": {},
   "outputs": [],
   "source": [
    "# instantiate the grid\n",
    "grid = GridSearchCV(knn, param_grid, cv=5, scoring='accuracy')"
   ]
  },
  {
   "cell_type": "code",
   "execution_count": 60,
   "metadata": {},
   "outputs": [
    {
     "data": {
      "text/plain": [
       "GridSearchCV(cv=5, error_score='raise',\n",
       "       estimator=KNeighborsClassifier(algorithm='auto', leaf_size=30, metric='minkowski',\n",
       "           metric_params=None, n_jobs=1, n_neighbors=5, p=2,\n",
       "           weights='uniform'),\n",
       "       fit_params=None, iid=True, n_jobs=1,\n",
       "       param_grid={'n_neighbors': [2, 3, 4, 5, 6, 7, 8, 9, 10, 11, 12, 13, 14, 15, 16, 17, 18, 19, 20, 21, 22, 23, 24, 25, 26, 27, 28, 29, 30]},\n",
       "       pre_dispatch='2*n_jobs', refit=True, return_train_score='warn',\n",
       "       scoring='accuracy', verbose=0)"
      ]
     },
     "execution_count": 60,
     "metadata": {},
     "output_type": "execute_result"
    }
   ],
   "source": [
    "#BALANCED DATA!!!!!\n",
    "# fit the grid with data\n",
    "grid.fit(x_train_bal, y_train_bal)"
   ]
  },
  {
   "cell_type": "code",
   "execution_count": 61,
   "metadata": {},
   "outputs": [
    {
     "name": "stderr",
     "output_type": "stream",
     "text": [
      "C:\\Users\\virgi\\AppData\\Local\\Continuum\\anaconda3\\lib\\site-packages\\sklearn\\model_selection\\_search.py:761: DeprecationWarning: The grid_scores_ attribute was deprecated in version 0.18 in favor of the more elaborate cv_results_ attribute. The grid_scores_ attribute will not be available from 0.20\n",
      "  DeprecationWarning)\n"
     ]
    },
    {
     "data": {
      "text/plain": [
       "[mean: 0.63713, std: 0.01281, params: {'n_neighbors': 2},\n",
       " mean: 0.67504, std: 0.02253, params: {'n_neighbors': 3},\n",
       " mean: 0.67857, std: 0.02257, params: {'n_neighbors': 4},\n",
       " mean: 0.70062, std: 0.01929, params: {'n_neighbors': 5},\n",
       " mean: 0.69797, std: 0.02923, params: {'n_neighbors': 6},\n",
       " mean: 0.70547, std: 0.03033, params: {'n_neighbors': 7},\n",
       " mean: 0.70194, std: 0.02820, params: {'n_neighbors': 8},\n",
       " mean: 0.71429, std: 0.02254, params: {'n_neighbors': 9},\n",
       " mean: 0.69885, std: 0.02196, params: {'n_neighbors': 10},\n",
       " mean: 0.70855, std: 0.01756, params: {'n_neighbors': 11},\n",
       " mean: 0.70811, std: 0.01568, params: {'n_neighbors': 12},\n",
       " mean: 0.71737, std: 0.01948, params: {'n_neighbors': 13},\n",
       " mean: 0.70767, std: 0.01537, params: {'n_neighbors': 14},\n",
       " mean: 0.71384, std: 0.01500, params: {'n_neighbors': 15},\n",
       " mean: 0.70723, std: 0.01813, params: {'n_neighbors': 16},\n",
       " mean: 0.71649, std: 0.01312, params: {'n_neighbors': 17},\n",
       " mean: 0.71164, std: 0.01114, params: {'n_neighbors': 18},\n",
       " mean: 0.70944, std: 0.01230, params: {'n_neighbors': 19},\n",
       " mean: 0.70635, std: 0.01390, params: {'n_neighbors': 20},\n",
       " mean: 0.71958, std: 0.00867, params: {'n_neighbors': 21},\n",
       " mean: 0.71164, std: 0.01426, params: {'n_neighbors': 22},\n",
       " mean: 0.71296, std: 0.01261, params: {'n_neighbors': 23},\n",
       " mean: 0.71032, std: 0.01261, params: {'n_neighbors': 24},\n",
       " mean: 0.70944, std: 0.01034, params: {'n_neighbors': 25},\n",
       " mean: 0.70767, std: 0.01330, params: {'n_neighbors': 26},\n",
       " mean: 0.70855, std: 0.01354, params: {'n_neighbors': 27},\n",
       " mean: 0.70944, std: 0.01213, params: {'n_neighbors': 28},\n",
       " mean: 0.70944, std: 0.01178, params: {'n_neighbors': 29},\n",
       " mean: 0.70370, std: 0.01463, params: {'n_neighbors': 30}]"
      ]
     },
     "execution_count": 61,
     "metadata": {},
     "output_type": "execute_result"
    }
   ],
   "source": [
    "#view the complete results (list of named tuples)\n",
    "grid.grid_scores_"
   ]
  },
  {
   "cell_type": "code",
   "execution_count": 63,
   "metadata": {},
   "outputs": [
    {
     "name": "stdout",
     "output_type": "stream",
     "text": [
      "Parameters\n",
      "{'n_neighbors': 2}\n",
      "\n",
      "CV Validation Score\n",
      "[0.63436123 0.63876652 0.61453744 0.65198238 0.6460177 ]\n",
      "\n",
      "Mean Validation Score\n",
      "0.6371252204585538\n"
     ]
    },
    {
     "name": "stderr",
     "output_type": "stream",
     "text": [
      "C:\\Users\\virgi\\AppData\\Local\\Continuum\\anaconda3\\lib\\site-packages\\sklearn\\model_selection\\_search.py:761: DeprecationWarning: The grid_scores_ attribute was deprecated in version 0.18 in favor of the more elaborate cv_results_ attribute. The grid_scores_ attribute will not be available from 0.20\n",
      "  DeprecationWarning)\n",
      "C:\\Users\\virgi\\AppData\\Local\\Continuum\\anaconda3\\lib\\site-packages\\sklearn\\model_selection\\_search.py:761: DeprecationWarning: The grid_scores_ attribute was deprecated in version 0.18 in favor of the more elaborate cv_results_ attribute. The grid_scores_ attribute will not be available from 0.20\n",
      "  DeprecationWarning)\n",
      "C:\\Users\\virgi\\AppData\\Local\\Continuum\\anaconda3\\lib\\site-packages\\sklearn\\model_selection\\_search.py:761: DeprecationWarning: The grid_scores_ attribute was deprecated in version 0.18 in favor of the more elaborate cv_results_ attribute. The grid_scores_ attribute will not be available from 0.20\n",
      "  DeprecationWarning)\n"
     ]
    }
   ],
   "source": [
    "# examine the first tuple\n",
    "# we will slice the list and select its elements using dot notation and []\n",
    "\n",
    "\n",
    "print('Parameters')\n",
    "print(grid.grid_scores_[0].parameters)\n",
    "\n",
    "# Array of 10 accuracy scores during 10-fold cv using the parameters\n",
    "print('')\n",
    "print('CV Validation Score')\n",
    "print(grid.grid_scores_[0].cv_validation_scores)\n",
    "\n",
    "# Mean of the 10 scores\n",
    "print('')\n",
    "print('Mean Validation Score')\n",
    "print(grid.grid_scores_[0].mean_validation_score)"
   ]
  },
  {
   "cell_type": "code",
   "execution_count": 64,
   "metadata": {},
   "outputs": [
    {
     "name": "stdout",
     "output_type": "stream",
     "text": [
      "[0.6371252204585538, 0.6750440917107584, 0.6785714285714286, 0.7006172839506173, 0.6979717813051146, 0.7054673721340388, 0.7019400352733686, 0.7142857142857143, 0.6988536155202821, 0.7085537918871252, 0.7081128747795414, 0.7173721340388007, 0.7076719576719577, 0.7138447971781305, 0.7072310405643739, 0.7164902998236331, 0.7116402116402116, 0.7094356261022927, 0.7063492063492064, 0.7195767195767195, 0.7116402116402116, 0.7129629629629629, 0.7103174603174603, 0.7094356261022927, 0.7076719576719577, 0.7085537918871252, 0.7094356261022927, 0.7094356261022927, 0.7037037037037037]\n"
     ]
    },
    {
     "name": "stderr",
     "output_type": "stream",
     "text": [
      "C:\\Users\\virgi\\AppData\\Local\\Continuum\\anaconda3\\lib\\site-packages\\sklearn\\model_selection\\_search.py:761: DeprecationWarning: The grid_scores_ attribute was deprecated in version 0.18 in favor of the more elaborate cv_results_ attribute. The grid_scores_ attribute will not be available from 0.20\n",
      "  DeprecationWarning)\n"
     ]
    }
   ],
   "source": [
    "# create a list of the mean scores only\n",
    "# list comprehension to loop through grid.grid_scores\n",
    "grid_mean_scores = [result.mean_validation_score for result in grid.grid_scores_]\n",
    "print(grid_mean_scores)"
   ]
  },
  {
   "cell_type": "code",
   "execution_count": 65,
   "metadata": {},
   "outputs": [
    {
     "data": {
      "text/plain": [
       "Text(0,0.5,'Cross-Validated Accuracy')"
      ]
     },
     "execution_count": 65,
     "metadata": {},
     "output_type": "execute_result"
    },
    {
     "data": {
      "image/png": "[encoded data removed]",
      "text/plain": [
       "<Figure size 432x288 with 1 Axes>"
      ]
     },
     "metadata": {},
     "output_type": "display_data"
    }
   ],
   "source": [
    "# plot the results\n",
    "# this is identical to the one we generated above\n",
    "plt.plot(k_range, grid_mean_scores)\n",
    "plt.xlabel('Value of K for KNN with Balanced data')\n",
    "plt.ylabel('Cross-Validated Accuracy')"
   ]
  },
  {
   "cell_type": "code",
   "execution_count": 66,
   "metadata": {},
   "outputs": [
    {
     "name": "stdout",
     "output_type": "stream",
     "text": [
      "0.7195767195767195\n",
      "{'n_neighbors': 21}\n",
      "KNeighborsClassifier(algorithm='auto', leaf_size=30, metric='minkowski',\n",
      "           metric_params=None, n_jobs=1, n_neighbors=21, p=2,\n",
      "           weights='uniform')\n"
     ]
    }
   ],
   "source": [
    "# examine the best model PER DATI BILANCIATI!!\n",
    "\n",
    "# Single best score achieved across all params (k)\n",
    "print(grid.best_score_)\n",
    "\n",
    "# Dictionary containing the parameters (k) used to generate that score\n",
    "print(grid.best_params_)\n",
    "\n",
    "# Actual model object fit with those best parameters\n",
    "# Shows default parameters that we did not specify\n",
    "print(grid.best_estimator_)"
   ]
  },
  {
   "cell_type": "code",
   "execution_count": 67,
   "metadata": {},
   "outputs": [],
   "source": [
    "n_neighbors = 21\n",
    "weights = 'uniform'\n",
    "knnBIL= neighbors.KNeighborsClassifier(n_neighbors, weights=weights)"
   ]
  },
  {
   "cell_type": "code",
   "execution_count": 68,
   "metadata": {},
   "outputs": [
    {
     "data": {
      "text/plain": [
       "KNeighborsClassifier(algorithm='auto', leaf_size=30, metric='minkowski',\n",
       "           metric_params=None, n_jobs=1, n_neighbors=21, p=2,\n",
       "           weights='uniform')"
      ]
     },
     "execution_count": 68,
     "metadata": {},
     "output_type": "execute_result"
    }
   ],
   "source": [
    "#BALANCED\n",
    "knnBIL.fit(x_train_bal, y_train_bal)"
   ]
  },
  {
   "cell_type": "code",
   "execution_count": 69,
   "metadata": {},
   "outputs": [
    {
     "name": "stdout",
     "output_type": "stream",
     "text": [
      "0 : [1 0.555 0.45 0.175 0.8740000000000001 0.3275 0.20199999999999999 0.305] predicted:  3-10  real:  3-10\n",
      "1 : [1 0.58 0.445 0.135 0.8140000000000001 0.3775 0.1915 0.22] predicted:  3-10  real:  3-10\n",
      "2 : [0 0.475 0.39 0.12 0.5305 0.2135 0.1155 0.17] predicted:  3-10  real:  3-10\n",
      "3 : [1 0.67 0.515 0.165 1.1735 0.526 0.285 0.316] predicted:  11-29  real:  11-29\n",
      "4 : [1 0.705 0.55 0.21 1.4385 0.655 0.3255 0.462] predicted:  11-29  real:  11-29\n",
      "5 : [0 0.565 0.455 0.175 1.013 0.342 0.207 0.35] predicted:  11-29  real:  11-29\n",
      "6 : [0 0.605 0.48 0.175 1.1685 0.4815 0.2305 0.35600000000000004] predicted:  3-10  real:  3-10\n",
      "7 : [1 0.61 0.49 0.16 1.146 0.597 0.24600000000000002 0.265] predicted:  3-10  real:  3-10\n",
      "8 : [1 0.48 0.375 0.115 0.6765 0.3205 0.1065 0.17] predicted:  3-10  real:  3-10\n",
      "9 : [0 0.64 0.52 0.175 1.248 0.4245 0.2595 0.48] predicted:  11-29  real:  11-29\n"
     ]
    }
   ],
   "source": [
    "for i in range(10):\n",
    "    p = knnBIL.predict(x_train_bal[i].reshape(1, -1))\n",
    "    print(i, \":\", x_train_bal[i], \"predicted: \", p[0], \" real: \", y_train_bal[i])"
   ]
  },
  {
   "cell_type": "code",
   "execution_count": 70,
   "metadata": {},
   "outputs": [
    {
     "name": "stdout",
     "output_type": "stream",
     "text": [
      "Accuracy: 0.72 (+/- 0.02)\n"
     ]
    }
   ],
   "source": [
    "scoresBIL = cross_val_score(knnBIL, x_train_bal, y_train_bal, cv=5)\n",
    "print(\"Accuracy: %0.2f (+/- %0.2f)\" % (scoresBIL.mean(), scoresBIL.std() * 2))"
   ]
  },
  {
   "cell_type": "code",
   "execution_count": 71,
   "metadata": {},
   "outputs": [
    {
     "name": "stdout",
     "output_type": "stream",
     "text": [
      "Accuracy:  0.736331569664903\n",
      "Confusion matrix, without normalization\n",
      "[[ 643  381]\n",
      " [ 217 1027]]\n"
     ]
    },
    {
     "data": {
      "image/png": "[encoded data removed]",
      "text/plain": [
       "<Figure size 432x288 with 2 Axes>"
      ]
     },
     "metadata": {},
     "output_type": "display_data"
    }
   ],
   "source": [
    "#Confusion Matrix balanced\n",
    "knnBIL.fit(x_train_bal,y_train_bal)\n",
    "predicted_bil = knnBIL.predict(x_train_bal)\n",
    "print(\"Accuracy: \", accuracy_score(predicted_bil, y_train_bal))\n",
    "classes= ['3-10', '11-29']\n",
    "cmBIL = confusion_matrix(y_train_bal, predicted_bil)\n",
    "plot_confusion_matrix(cmBIL, classes=classes, title='KNN balanced Data')"
   ]
  },
  {
   "cell_type": "code",
   "execution_count": 72,
   "metadata": {},
   "outputs": [
    {
     "data": {
      "text/plain": [
       "GridSearchCV(cv=5, error_score='raise',\n",
       "       estimator=KNeighborsClassifier(algorithm='auto', leaf_size=30, metric='minkowski',\n",
       "           metric_params=None, n_jobs=1, n_neighbors=5, p=2,\n",
       "           weights='uniform'),\n",
       "       fit_params=None, iid=True, n_jobs=1,\n",
       "       param_grid={'n_neighbors': [2, 3, 4, 5, 6, 7, 8, 9, 10, 11, 12, 13, 14, 15, 16, 17, 18, 19, 20, 21, 22, 23, 24, 25, 26, 27, 28, 29, 30]},\n",
       "       pre_dispatch='2*n_jobs', refit=True, return_train_score='warn',\n",
       "       scoring='accuracy', verbose=0)"
      ]
     },
     "execution_count": 72,
     "metadata": {},
     "output_type": "execute_result"
    }
   ],
   "source": [
    "#UNBALANCED DATA!!!!! (DOPO OVERSAMPLING)\n",
    "# fit the grid with data\n",
    "grid.fit(x_trainfSMO, y_traintSMO)"
   ]
  },
  {
   "cell_type": "code",
   "execution_count": 73,
   "metadata": {},
   "outputs": [
    {
     "name": "stderr",
     "output_type": "stream",
     "text": [
      "C:\\Users\\virgi\\AppData\\Local\\Continuum\\anaconda3\\lib\\site-packages\\sklearn\\model_selection\\_search.py:761: DeprecationWarning: The grid_scores_ attribute was deprecated in version 0.18 in favor of the more elaborate cv_results_ attribute. The grid_scores_ attribute will not be available from 0.20\n",
      "  DeprecationWarning)\n"
     ]
    },
    {
     "data": {
      "text/plain": [
       "[mean: 0.86237, std: 0.01050, params: {'n_neighbors': 2},\n",
       " mean: 0.88124, std: 0.01194, params: {'n_neighbors': 3},\n",
       " mean: 0.85134, std: 0.01661, params: {'n_neighbors': 4},\n",
       " mean: 0.86237, std: 0.01997, params: {'n_neighbors': 5},\n",
       " mean: 0.84582, std: 0.01424, params: {'n_neighbors': 6},\n",
       " mean: 0.85656, std: 0.01655, params: {'n_neighbors': 7},\n",
       " mean: 0.84059, std: 0.01647, params: {'n_neighbors': 8},\n",
       " mean: 0.84872, std: 0.02010, params: {'n_neighbors': 9},\n",
       " mean: 0.83798, std: 0.02238, params: {'n_neighbors': 10},\n",
       " mean: 0.84117, std: 0.02514, params: {'n_neighbors': 11},\n",
       " mean: 0.83420, std: 0.02687, params: {'n_neighbors': 12},\n",
       " mean: 0.83566, std: 0.02532, params: {'n_neighbors': 13},\n",
       " mean: 0.83130, std: 0.02644, params: {'n_neighbors': 14},\n",
       " mean: 0.83537, std: 0.02417, params: {'n_neighbors': 15},\n",
       " mean: 0.82956, std: 0.02542, params: {'n_neighbors': 16},\n",
       " mean: 0.83072, std: 0.02719, params: {'n_neighbors': 17},\n",
       " mean: 0.82753, std: 0.02403, params: {'n_neighbors': 18},\n",
       " mean: 0.82840, std: 0.02549, params: {'n_neighbors': 19},\n",
       " mean: 0.82549, std: 0.02178, params: {'n_neighbors': 20},\n",
       " mean: 0.82201, std: 0.02253, params: {'n_neighbors': 21},\n",
       " mean: 0.82027, std: 0.02266, params: {'n_neighbors': 22},\n",
       " mean: 0.81794, std: 0.02371, params: {'n_neighbors': 23},\n",
       " mean: 0.81620, std: 0.02468, params: {'n_neighbors': 24},\n",
       " mean: 0.81823, std: 0.02243, params: {'n_neighbors': 25},\n",
       " mean: 0.81620, std: 0.02277, params: {'n_neighbors': 26},\n",
       " mean: 0.81591, std: 0.02095, params: {'n_neighbors': 27},\n",
       " mean: 0.81475, std: 0.02323, params: {'n_neighbors': 28},\n",
       " mean: 0.81591, std: 0.01944, params: {'n_neighbors': 29},\n",
       " mean: 0.81330, std: 0.02432, params: {'n_neighbors': 30}]"
      ]
     },
     "execution_count": 73,
     "metadata": {},
     "output_type": "execute_result"
    }
   ],
   "source": [
    "# view the complete results (list of named tuples)\n",
    "grid.grid_scores_"
   ]
  },
  {
   "cell_type": "code",
   "execution_count": 74,
   "metadata": {},
   "outputs": [
    {
     "name": "stdout",
     "output_type": "stream",
     "text": [
      "Parameters\n",
      "{'n_neighbors': 2}\n",
      "\n",
      "CV Validation Score\n",
      "[0.85362319 0.87953556 0.85776488 0.85174419 0.86918605]\n",
      "\n",
      "Mean Validation Score\n",
      "0.8623693379790941\n"
     ]
    },
    {
     "name": "stderr",
     "output_type": "stream",
     "text": [
      "C:\\Users\\virgi\\AppData\\Local\\Continuum\\anaconda3\\lib\\site-packages\\sklearn\\model_selection\\_search.py:761: DeprecationWarning: The grid_scores_ attribute was deprecated in version 0.18 in favor of the more elaborate cv_results_ attribute. The grid_scores_ attribute will not be available from 0.20\n",
      "  DeprecationWarning)\n",
      "C:\\Users\\virgi\\AppData\\Local\\Continuum\\anaconda3\\lib\\site-packages\\sklearn\\model_selection\\_search.py:761: DeprecationWarning: The grid_scores_ attribute was deprecated in version 0.18 in favor of the more elaborate cv_results_ attribute. The grid_scores_ attribute will not be available from 0.20\n",
      "  DeprecationWarning)\n",
      "C:\\Users\\virgi\\AppData\\Local\\Continuum\\anaconda3\\lib\\site-packages\\sklearn\\model_selection\\_search.py:761: DeprecationWarning: The grid_scores_ attribute was deprecated in version 0.18 in favor of the more elaborate cv_results_ attribute. The grid_scores_ attribute will not be available from 0.20\n",
      "  DeprecationWarning)\n"
     ]
    }
   ],
   "source": [
    "# examine the first tuple\n",
    "# we will slice the list and select its elements using dot notation and []\n",
    "\n",
    "\n",
    "print('Parameters')\n",
    "print(grid.grid_scores_[0].parameters)\n",
    "\n",
    "# Array of 10 accuracy scores during 10-fold cv using the parameters\n",
    "print('')\n",
    "print('CV Validation Score')\n",
    "print(grid.grid_scores_[0].cv_validation_scores)\n",
    "\n",
    "# Mean of the 10 scores\n",
    "print('')\n",
    "print('Mean Validation Score')\n",
    "print(grid.grid_scores_[0].mean_validation_score)"
   ]
  },
  {
   "cell_type": "code",
   "execution_count": 75,
   "metadata": {},
   "outputs": [
    {
     "name": "stdout",
     "output_type": "stream",
     "text": [
      "[0.8623693379790941, 0.8812427409988386, 0.851335656213705, 0.8623693379790941, 0.8458188153310104, 0.8565621370499419, 0.8405923344947736, 0.8487224157955865, 0.837979094076655, 0.8411730545876888, 0.8342044134727061, 0.8356562137049942, 0.8313008130081301, 0.8353658536585366, 0.8295586527293844, 0.8307200929152149, 0.8275261324041812, 0.828397212543554, 0.825493612078978, 0.8220092915214866, 0.820267131242741, 0.8179442508710801, 0.8162020905923345, 0.8182346109175378, 0.8162020905923345, 0.8159117305458768, 0.8147502903600464, 0.8159117305458768, 0.8132984901277585]\n"
     ]
    },
    {
     "name": "stderr",
     "output_type": "stream",
     "text": [
      "C:\\Users\\virgi\\AppData\\Local\\Continuum\\anaconda3\\lib\\site-packages\\sklearn\\model_selection\\_search.py:761: DeprecationWarning: The grid_scores_ attribute was deprecated in version 0.18 in favor of the more elaborate cv_results_ attribute. The grid_scores_ attribute will not be available from 0.20\n",
      "  DeprecationWarning)\n"
     ]
    }
   ],
   "source": [
    "# create a list of the mean scores only\n",
    "# list comprehension to loop through grid.grid_scores\n",
    "grid_mean_scores = [result.mean_validation_score for result in grid.grid_scores_]\n",
    "print(grid_mean_scores)"
   ]
  },
  {
   "cell_type": "code",
   "execution_count": 76,
   "metadata": {},
   "outputs": [
    {
     "data": {
      "text/plain": [
       "Text(0,0.5,'Cross-Validated Accuracy')"
      ]
     },
     "execution_count": 76,
     "metadata": {},
     "output_type": "execute_result"
    },
    {
     "data": {
      "image/png": "[encoded data removed]",
      "text/plain": [
       "<Figure size 432x288 with 1 Axes>"
      ]
     },
     "metadata": {},
     "output_type": "display_data"
    }
   ],
   "source": [
    "# plot the results\n",
    "# this is identical to the one we generated above\n",
    "plt.plot(k_range, grid_mean_scores)\n",
    "plt.xlabel('Value of K for KNN with Oversampled data')\n",
    "plt.ylabel('Cross-Validated Accuracy')"
   ]
  },
  {
   "cell_type": "code",
   "execution_count": 77,
   "metadata": {},
   "outputs": [
    {
     "name": "stdout",
     "output_type": "stream",
     "text": [
      "0.8812427409988386\n",
      "{'n_neighbors': 3}\n",
      "KNeighborsClassifier(algorithm='auto', leaf_size=30, metric='minkowski',\n",
      "           metric_params=None, n_jobs=1, n_neighbors=3, p=2,\n",
      "           weights='uniform')\n"
     ]
    }
   ],
   "source": [
    "# examine the best model PER DATI SBILANCIATI!!\n",
    "\n",
    "# Single best score achieved across all params (k)\n",
    "print(grid.best_score_)\n",
    "\n",
    "# Dictionary containing the parameters (k) used to generate that score\n",
    "print(grid.best_params_)\n",
    "\n",
    "# Actual model object fit with those best parameters\n",
    "# Shows default parameters that we did not specify\n",
    "print(grid.best_estimator_)"
   ]
  },
  {
   "cell_type": "code",
   "execution_count": 78,
   "metadata": {},
   "outputs": [],
   "source": [
    "n_neighbors = 3\n",
    "weights = 'uniform'\n",
    "clfSMOTE = neighbors.KNeighborsClassifier(n_neighbors, weights=weights)"
   ]
  },
  {
   "cell_type": "code",
   "execution_count": 79,
   "metadata": {},
   "outputs": [
    {
     "data": {
      "text/plain": [
       "KNeighborsClassifier(algorithm='auto', leaf_size=30, metric='minkowski',\n",
       "           metric_params=None, n_jobs=1, n_neighbors=3, p=2,\n",
       "           weights='uniform')"
      ]
     },
     "execution_count": 79,
     "metadata": {},
     "output_type": "execute_result"
    }
   ],
   "source": [
    "#UNBALANCED CON OVERSAMPLING\n",
    "clfSMOTE.fit(x_trainfSMO, y_traintSMO)"
   ]
  },
  {
   "cell_type": "code",
   "execution_count": 80,
   "metadata": {},
   "outputs": [
    {
     "name": "stdout",
     "output_type": "stream",
     "text": [
      "0 : [1.     0.71   0.55   0.2    1.9045 0.882  0.44   0.5   ] predicted:  3-14  real:  3-14\n",
      "1 : [1.     0.61   0.5    0.165  1.2715 0.4915 0.185  0.49  ] predicted:  15-29  real:  3-14\n",
      "2 : [1.     0.66   0.51   0.175  1.218  0.5055 0.303  0.37  ] predicted:  3-14  real:  3-14\n",
      "3 : [1.     0.575  0.45   0.13   0.785  0.318  0.193  0.2265] predicted:  3-14  real:  3-14\n",
      "4 : [1.     0.5    0.385  0.12   0.6335 0.2305 0.125  0.235 ] predicted:  3-14  real:  3-14\n",
      "5 : [1.     0.505  0.39   0.115  0.5585 0.2575 0.119  0.1535] predicted:  3-14  real:  3-14\n",
      "6 : [1.         0.43295165 0.33355385 0.13295165 0.40471584 0.14398133\n",
      " 0.06392154 0.15862594] predicted:  15-29  real:  15-29\n",
      "7 : [1.     0.56   0.455  0.165  0.86   0.4015 0.1695 0.245 ] predicted:  3-14  real:  3-14\n",
      "8 : [0.         0.67886346 0.54886346 0.20659038 1.74222692 0.61727582\n",
      " 0.31966138 0.62045383] predicted:  15-29  real:  15-29\n",
      "9 : [0.     0.585  0.455  0.165  0.998  0.345  0.2495 0.315 ] predicted:  3-14  real:  3-14\n"
     ]
    }
   ],
   "source": [
    "for i in range(10):\n",
    "    p = clfSMOTE.predict(x_trainfSMO[i].reshape(1, -1))\n",
    "    print(i, \":\", x_trainfSMO[i], \"predicted: \", p[0], \" real: \", y_traintSMO[i])"
   ]
  },
  {
   "cell_type": "code",
   "execution_count": 81,
   "metadata": {},
   "outputs": [
    {
     "name": "stdout",
     "output_type": "stream",
     "text": [
      "Accuracy: 0.88 (+/- 0.02)\n"
     ]
    }
   ],
   "source": [
    "scoresSMOTE = cross_val_score(clfSMOTE, x_trainfSMO, y_traintSMO, cv=5)\n",
    "print(\"Accuracy: %0.2f (+/- %0.2f)\" % (scoresSMOTE.mean(), scoresSMOTE.std() * 2))"
   ]
  },
  {
   "cell_type": "code",
   "execution_count": 82,
   "metadata": {},
   "outputs": [
    {
     "name": "stdout",
     "output_type": "stream",
     "text": [
      "Accuracy:  0.9384436701509872\n",
      "Confusion matrix, without normalization\n",
      "[[1436   10]\n",
      " [ 202 1796]]\n"
     ]
    },
    {
     "data": {
      "image/png": "[encoded data removed]",
      "text/plain": [
       "<Figure size 432x288 with 2 Axes>"
      ]
     },
     "metadata": {},
     "output_type": "display_data"
    }
   ],
   "source": [
    "#Confusion Matrix OVERSAMPLED\n",
    "clfSMOTE.fit(x_trainfSMO,y_traintSMO)\n",
    "predicted_SMO = clfSMOTE.predict(x_trainfSMO)\n",
    "print(\"Accuracy: \", accuracy_score(predicted_SMO, y_traintSMO))\n",
    "classes= ['3-14', '15-29']\n",
    "cmSMOTE = confusion_matrix(y_traintSMO, predicted_SMO)\n",
    "plot_confusion_matrix(cmSMOTE, classes=classes, title='KNN oversampled Data')"
   ]
  },
  {
   "cell_type": "code",
   "execution_count": 83,
   "metadata": {},
   "outputs": [
    {
     "data": {
      "text/plain": [
       "(2835,)"
      ]
     },
     "execution_count": 83,
     "metadata": {},
     "output_type": "execute_result"
    }
   ],
   "source": [
    "train_target.shape"
   ]
  },
  {
   "cell_type": "code",
   "execution_count": 84,
   "metadata": {},
   "outputs": [
    {
     "data": {
      "text/plain": [
       "(4305,)"
      ]
     },
     "execution_count": 84,
     "metadata": {},
     "output_type": "execute_result"
    }
   ],
   "source": [
    "traintSMO.shape"
   ]
  },
  {
   "cell_type": "code",
   "execution_count": 85,
   "metadata": {},
   "outputs": [
    {
     "data": {
      "image/png": "[encoded data removed]",
      "text/plain": [
       "<Figure size 432x288 with 1 Axes>"
      ]
     },
     "metadata": {},
     "output_type": "display_data"
    }
   ],
   "source": [
    "from sklearn.metrics import roc_curve, auc\n",
    "import seaborn as sns\n",
    "\n",
    "targetbal = pd.Categorical(y_train_bal).rename_categories([0,1])\n",
    "predictedbal = pd.Categorical(predicted_bil).rename_categories([0,1])\n",
    "fprbal, tprbal, _ =  roc_curve(targetbal, predictedbal)\n",
    "roc_auc = auc(fprbal, tprbal)\n",
    "\n",
    "targetSMO = pd.Categorical(y_traintSMO).rename_categories([0,1])\n",
    "predictedSMO = pd.Categorical(predicted_SMO).rename_categories([0,1])\n",
    "fprSMO, tprSMO, _ =  roc_curve(targetSMO, predictedSMO)\n",
    "roc_auc2 = auc(fprSMO, tprSMO)\n",
    "\n",
    "sns.set_style(\"darkgrid\")\n",
    "plt.plot(fprbal,tprbal, label='ROC curve Balanced Data (area = %0.2f)' % roc_auc)\n",
    "plt.plot(fprSMO,tprSMO, label='ROC curve Oversampled Data (area = %0.2f)' % roc_auc2)\n",
    "\n",
    "plt.title(\"ROC Curves SVM\")\n",
    "\n",
    "plt.legend(loc=\"lower right\")\n",
    "plt.show()"
   ]
  }
 ],
 "metadata": {
  "kernelspec": {
   "display_name": "Python 3",
   "language": "python",
   "name": "python3"
  },
  "language_info": {
   "codemirror_mode": {
    "name": "ipython",
    "version": 3
   },
   "file_extension": ".py",
   "mimetype": "text/x-python",
   "name": "python",
   "nbconvert_exporter": "python",
   "pygments_lexer": "ipython3",
   "version": "3.6.5"
  }
 },
 "nbformat": 4,
 "nbformat_minor": 2
}

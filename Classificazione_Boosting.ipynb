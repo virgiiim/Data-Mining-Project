{
 "cells": [
  {
   "cell_type": "code",
   "execution_count": 1,
   "metadata": {},
   "outputs": [
    {
     "name": "stderr",
     "output_type": "stream",
     "text": [
      "C:\\Users\\Martina\\Anaconda2\\lib\\site-packages\\sklearn\\cross_validation.py:41: DeprecationWarning: This module was deprecated in version 0.18 in favor of the model_selection module into which all the refactored classes and functions are moved. Also note that the interface of the new CV iterators are different from that of this module. This module will be removed in 0.20.\n",
      "  \"This module will be removed in 0.20.\", DeprecationWarning)\n"
     ]
    }
   ],
   "source": [
    "#librerie necessarie per la classificazione\n",
    "%matplotlib inline\n",
    "import math\n",
    "import random\n",
    "import numpy as np\n",
    "import pandas as pd\n",
    "import scipy.stats as stats\n",
    "import matplotlib.pyplot as plt\n",
    "from sklearn import metrics\n",
    "from collections import defaultdict\n",
    "from sklearn.model_selection import GridSearchCV\n",
    "from sklearn.metrics import confusion_matrix\n",
    "from sklearn.cross_validation import train_test_split\n",
    "from sklearn.metrics import make_scorer\n",
    "from sklearn.metrics import roc_auc_score, accuracy_score, roc_curve\n",
    "from sklearn.model_selection import learning_curve\n",
    "from sklearn.tree import DecisionTreeClassifier\n",
    "from sklearn import cross_validation\n",
    "from sklearn.cross_validation import cross_val_score\n"
   ]
  },
  {
   "cell_type": "code",
   "execution_count": 2,
   "metadata": {
    "collapsed": true
   },
   "outputs": [],
   "source": [
    "import itertools    \n",
    "def plot_confusion_matrix(cm, classes,\n",
    "                              normalize=False,\n",
    "                              title='Confusion matrix',\n",
    "                              cmap=plt.cm.Oranges):\n",
    "        import itertools\n",
    "        plt.imshow(cm, interpolation='nearest', cmap=cmap)\n",
    "        plt.title(title)\n",
    "        plt.colorbar()\n",
    "        tick_marks = np.arange(len(classes))\n",
    "        plt.xticks(tick_marks, classes, rotation=45)\n",
    "        plt.yticks(tick_marks, classes)\n",
    "\n",
    "        if normalize:\n",
    "            cm = cm.astype('float') / cm.sum(axis=1)[:, np.newaxis]\n",
    "            print(\"Normalized confusion matrix\")\n",
    "        else:\n",
    "            print('Confusion matrix, without normalization')\n",
    "\n",
    "        print(cm)\n",
    "\n",
    "        thresh = cm.max() / 2.\n",
    "        for i, j in itertools.product(range(cm.shape[0]), range(cm.shape[1])):\n",
    "            plt.text(j, i, cm[i, j],\n",
    "                     horizontalalignment=\"center\",\n",
    "                     color=\"white\" if cm[i, j] > thresh else \"black\")\n",
    "\n",
    "        plt.tight_layout()\n",
    "        plt.ylabel('True label')\n",
    "        plt.xlabel('Predicted label')"
   ]
  },
  {
   "cell_type": "code",
   "execution_count": 3,
   "metadata": {
    "collapsed": true
   },
   "outputs": [],
   "source": [
    "def report(results, n_top=3):\n",
    "    for i in range(1, n_top + 1):\n",
    "        candidates = np.flatnonzero(results['rank_test_score'] == i)\n",
    "        for candidate in candidates:\n",
    "            print(\"Model with rank: {0}\".format(i))\n",
    "            print(\"Mean validation score: {0:.3f} (std: {1:.3f})\".format(\n",
    "                  results['mean_test_score'][candidate],\n",
    "                  results['std_test_score'][candidate]))\n",
    "            print(\"Parameters: {0}\".format(results['params'][candidate]))\n",
    "            print(\"\")"
   ]
  },
  {
   "cell_type": "code",
   "execution_count": 4,
   "metadata": {
    "collapsed": true
   },
   "outputs": [],
   "source": [
    "#open file\n",
    "df = pd.read_csv('abalone-data.csv')"
   ]
  },
  {
   "cell_type": "code",
   "execution_count": 5,
   "metadata": {
    "collapsed": true
   },
   "outputs": [],
   "source": [
    "#rename columns\n",
    "df.columns = ['Sex', 'Length', 'Diameter', 'Height', 'Whole_weight', 'Shucked_weight', 'Viscera_weight', 'Shell_weight', 'Rings']"
   ]
  },
  {
   "cell_type": "code",
   "execution_count": 6,
   "metadata": {
    "collapsed": true
   },
   "outputs": [],
   "source": [
    "#discard the “Infant” abalones\n",
    "df = df[df['Sex'] != 'I' ]"
   ]
  },
  {
   "cell_type": "code",
   "execution_count": 7,
   "metadata": {
    "collapsed": true
   },
   "outputs": [],
   "source": [
    "# Generate a mapping of Sex from a string to a number representation    \n",
    "sexes = sorted(df['Sex'].unique()) #Return unique values \n",
    "genders_mapping = dict(zip(sexes, range(0, len(sexes) + 1))) #create a dictionary {F: number of records; M: number of records}\n",
    "# Transform Sex from a string to a number representation\n",
    "df['Sex'] = df['Sex'].map(genders_mapping).astype(int) #Male=1; Female=0"
   ]
  },
  {
   "cell_type": "code",
   "execution_count": 8,
   "metadata": {
    "collapsed": true
   },
   "outputs": [],
   "source": [
    "#copia df per dati sbilanciati\n",
    "df_imb = df.copy()"
   ]
  },
  {
   "cell_type": "code",
   "execution_count": 9,
   "metadata": {
    "collapsed": true
   },
   "outputs": [],
   "source": [
    "#copia df per dati oversampled\n",
    "df_os = df.copy()"
   ]
  },
  {
   "cell_type": "code",
   "execution_count": 10,
   "metadata": {
    "collapsed": true
   },
   "outputs": [],
   "source": [
    "#classi bilanciate\n",
    "df['Bin'] = pd.cut(df['Rings'], bins=[0, 10, 29], right=True, labels = [0, 1] )"
   ]
  },
  {
   "cell_type": "code",
   "execution_count": 11,
   "metadata": {},
   "outputs": [
    {
     "name": "stdout",
     "output_type": "stream",
     "text": [
      "0    88.359788\n",
      "1    11.640212\n",
      "Name: Bin, dtype: float64\n"
     ]
    }
   ],
   "source": [
    "#classi sbilanciate\n",
    "df_imb['Bin'] = pd.cut(df_imb['Rings'], bins=[0, 14, 29], right=True, labels = [0, 1] ) \n",
    "print(df_imb.Bin.value_counts(sort=True)*100/len(df_imb)) \n",
    "df_imb = df_imb.drop(['Rings'], axis=1)"
   ]
  },
  {
   "cell_type": "code",
   "execution_count": 12,
   "metadata": {},
   "outputs": [
    {
     "name": "stdout",
     "output_type": "stream",
     "text": [
      "0    88.359788\n",
      "1    11.640212\n",
      "Name: Bin, dtype: float64\n"
     ]
    }
   ],
   "source": [
    "#classi oversampled\n",
    "df_os['Bin'] = pd.cut(df_os['Rings'], bins=[0, 14, 29], right=True, labels = [0, 1] ) \n",
    "print(df_os.Bin.value_counts(sort=True)*100/len(df_os)) \n",
    "df_os = df_os.drop(['Rings'], axis=1)"
   ]
  },
  {
   "cell_type": "code",
   "execution_count": 13,
   "metadata": {
    "collapsed": true
   },
   "outputs": [],
   "source": [
    "df = df.drop(labels= ['Rings'], axis = 1)"
   ]
  },
  {
   "cell_type": "code",
   "execution_count": 14,
   "metadata": {
    "collapsed": true
   },
   "outputs": [],
   "source": [
    "train_data = df.values\n",
    "train_features = train_data[:, 0:7]"
   ]
  },
  {
   "cell_type": "code",
   "execution_count": 15,
   "metadata": {},
   "outputs": [],
   "source": [
    "train_target = train_data[:,8].astype('int')"
   ]
  },
  {
   "cell_type": "code",
   "execution_count": 16,
   "metadata": {
    "collapsed": true
   },
   "outputs": [],
   "source": [
    "x_train, x_test, y_train, y_test = train_test_split(train_features, train_target, test_size = 0.20, random_state = 0)"
   ]
  },
  {
   "cell_type": "markdown",
   "metadata": {},
   "source": [
    "# ADABOOST - CLASSI BILANCIATE"
   ]
  },
  {
   "cell_type": "code",
   "execution_count": 17,
   "metadata": {
    "collapsed": true
   },
   "outputs": [],
   "source": [
    "#stima del classificatore ad albero\n",
    "clf = DecisionTreeClassifier()\n",
    "\n",
    "parameters = {'max_depth':[1,2,3,4,5,6,7,8,9,10,None] ,\n",
    "              'criterion': ['gini', 'entropy'],\n",
    "              'splitter': ['best', 'random'], \n",
    "              'min_samples_split': [2,3,4,5], \n",
    "              'min_samples_leaf': [2,3,4,5], \n",
    "              'min_weight_fraction_leaf': [0.0,0.1,0.2]\n",
    "             }\n",
    "scorer = make_scorer(accuracy_score)"
   ]
  },
  {
   "cell_type": "code",
   "execution_count": 18,
   "metadata": {
    "collapsed": true
   },
   "outputs": [],
   "source": [
    "grid_search = GridSearchCV(clf, param_grid = parameters, scoring=scorer)"
   ]
  },
  {
   "cell_type": "code",
   "execution_count": 19,
   "metadata": {
    "collapsed": true
   },
   "outputs": [],
   "source": [
    "grid_fit = grid_search.fit(x_train,y_train)"
   ]
  },
  {
   "cell_type": "code",
   "execution_count": 20,
   "metadata": {
    "scrolled": false
   },
   "outputs": [
    {
     "name": "stdout",
     "output_type": "stream",
     "text": [
      "('I migliori parametri dopo la Grid Search sono:', {'splitter': 'best', 'min_samples_leaf': 2, 'min_weight_fraction_leaf': 0.0, 'criterion': 'gini', 'min_samples_split': 2, 'max_depth': 6})\n"
     ]
    }
   ],
   "source": [
    "print ('I migliori parametri dopo la Grid Search sono:', grid_fit.best_params_)"
   ]
  },
  {
   "cell_type": "code",
   "execution_count": 21,
   "metadata": {},
   "outputs": [
    {
     "data": {
      "text/plain": [
       "DecisionTreeClassifier(class_weight=None, criterion='gini', max_depth=6,\n",
       "            max_features=None, max_leaf_nodes=None,\n",
       "            min_impurity_decrease=0.0, min_impurity_split=None,\n",
       "            min_samples_leaf=5, min_samples_split=2,\n",
       "            min_weight_fraction_leaf=0.0, presort=False, random_state=None,\n",
       "            splitter='best')"
      ]
     },
     "execution_count": 21,
     "metadata": {},
     "output_type": "execute_result"
    }
   ],
   "source": [
    "clf.set_params(splitter='best', min_samples_leaf=5, min_weight_fraction_leaf=0.0, criterion='gini', min_samples_split= 2, max_depth=6)"
   ]
  },
  {
   "cell_type": "code",
   "execution_count": 22,
   "metadata": {
    "collapsed": true
   },
   "outputs": [],
   "source": [
    "clf = clf.fit(x_train, y_train);"
   ]
  },
  {
   "cell_type": "code",
   "execution_count": 23,
   "metadata": {
    "collapsed": true
   },
   "outputs": [],
   "source": [
    "predictions = clf.predict(x_test)"
   ]
  },
  {
   "cell_type": "code",
   "execution_count": 24,
   "metadata": {},
   "outputs": [
    {
     "name": "stdout",
     "output_type": "stream",
     "text": [
      "Accuracy balanced classes: 0.67 (+/- 0.04)\n"
     ]
    }
   ],
   "source": [
    "scores = cross_validation.cross_val_score(clf, x_train, y_train, cv=5)\n",
    "print ('Accuracy balanced classes: %0.2f (+/- %0.2f)' % (scores.mean(), scores.std() * 2))"
   ]
  },
  {
   "cell_type": "code",
   "execution_count": 25,
   "metadata": {
    "collapsed": true
   },
   "outputs": [],
   "source": [
    "from sklearn.ensemble import AdaBoostClassifier\n",
    "\n",
    "ada = AdaBoostClassifier(base_estimator=clf)\n",
    "scoring = {'AUC': 'roc_auc', 'Accuracy': make_scorer(accuracy_score)}\n",
    "\n",
    "param = {'learning_rate': [1.0, 0.9, 0.8, 0.7, 0.6, 0.5],\n",
    "         'n_estimators': [50, 100, 150, 200, 225, 250], \n",
    "         'algorithm' : ['SAMME', 'SAMME.R']\n",
    "        }"
   ]
  },
  {
   "cell_type": "code",
   "execution_count": 26,
   "metadata": {
    "collapsed": true
   },
   "outputs": [],
   "source": [
    "grid_ada = GridSearchCV(ada, param_grid = param, scoring=scoring, cv=5, refit='AUC')"
   ]
  },
  {
   "cell_type": "code",
   "execution_count": 28,
   "metadata": {},
   "outputs": [],
   "source": [
    "grid_a = grid_ada.fit(x_train,y_train)"
   ]
  },
  {
   "cell_type": "code",
   "execution_count": 29,
   "metadata": {},
   "outputs": [
    {
     "name": "stdout",
     "output_type": "stream",
     "text": [
      "('I migliori parametri dopo la Grid Search sono:', {'n_estimators': 150, 'learning_rate': 0.5, 'algorithm': 'SAMME'})\n"
     ]
    }
   ],
   "source": [
    "print ('I migliori parametri dopo la Grid Search sono:', grid_a.best_params_)"
   ]
  },
  {
   "cell_type": "code",
   "execution_count": 30,
   "metadata": {},
   "outputs": [
    {
     "data": {
      "text/plain": [
       "AdaBoostClassifier(algorithm='SAMME',\n",
       "          base_estimator=DecisionTreeClassifier(class_weight=None, criterion='gini', max_depth=6,\n",
       "            max_features=None, max_leaf_nodes=None,\n",
       "            min_impurity_decrease=0.0, min_impurity_split=None,\n",
       "            min_samples_leaf=5, min_samples_split=2,\n",
       "            min_weight_fraction_leaf=0.0, presort=False, random_state=None,\n",
       "            splitter='best'),\n",
       "          learning_rate=0.5, n_estimators=150, random_state=None)"
      ]
     },
     "execution_count": 30,
     "metadata": {},
     "output_type": "execute_result"
    }
   ],
   "source": [
    "ada.set_params(learning_rate=0.5, n_estimators=150, algorithm='SAMME')"
   ]
  },
  {
   "cell_type": "code",
   "execution_count": 31,
   "metadata": {
    "collapsed": true
   },
   "outputs": [],
   "source": [
    "ada = ada.fit(x_train, y_train);"
   ]
  },
  {
   "cell_type": "code",
   "execution_count": 32,
   "metadata": {
    "collapsed": true
   },
   "outputs": [],
   "source": [
    "test_pred = ada.predict(x_test)"
   ]
  },
  {
   "cell_type": "code",
   "execution_count": 105,
   "metadata": {},
   "outputs": [
    {
     "name": "stdout",
     "output_type": "stream",
     "text": [
      "('Accuracy on training set:', 0.781)\n",
      "('Accuracy on test set: ', 0.744)\n"
     ]
    }
   ],
   "source": [
    "print(\"Accuracy on test set: \", round(metrics.accuracy_score(y_test, test_pred),3))"
   ]
  },
  {
   "cell_type": "code",
   "execution_count": null,
   "metadata": {
    "collapsed": true
   },
   "outputs": [],
   "source": [
    "scores = cross_validation.cross_val_score(clf, x_train, y_train, cv=5)\n",
    "print ('Accuracy balanced classes: %0.2f (+/- %0.2f)' % (scores.mean(), scores.std() * 2))"
   ]
  },
  {
   "cell_type": "code",
   "execution_count": 111,
   "metadata": {},
   "outputs": [
    {
     "data": {
      "text/plain": [
       "{0: 299, 1: 268}"
      ]
     },
     "execution_count": 111,
     "metadata": {},
     "output_type": "execute_result"
    }
   ],
   "source": [
    "# examine the class distribution of the testing set\n",
    "unique, counts = numpy.unique(y_test, return_counts=True)\n",
    "dict(zip(unique, counts))"
   ]
  },
  {
   "cell_type": "code",
   "execution_count": 113,
   "metadata": {
    "collapsed": true
   },
   "outputs": [],
   "source": [
    "#CLASSI BILANCIATE\n",
    "classes= ['3-10', '11-29']\n",
    "cm_test = confusion_matrix(y_test, test_pred)"
   ]
  },
  {
   "cell_type": "code",
   "execution_count": 116,
   "metadata": {},
   "outputs": [
    {
     "name": "stdout",
     "output_type": "stream",
     "text": [
      "Confusion matrix, without normalization\n",
      "[[244  55]\n",
      " [ 90 178]]\n"
     ]
    },
    {
     "data": {
      "image/png": "[encoded data removed]",
      "text/plain": [
       "<matplotlib.figure.Figure at 0xf336550>"
      ]
     },
     "metadata": {},
     "output_type": "display_data"
    }
   ],
   "source": [
    "#Test set\n",
    "plot_confusion_matrix(cm_test, classes=classes, title=\"Confusion Matrix of Balanced Data AdaBoost Test Set\")"
   ]
  },
  {
   "cell_type": "markdown",
   "metadata": {},
   "source": [
    "# ADABOOST - CLASSI SBILANCIATE"
   ]
  },
  {
   "cell_type": "code",
   "execution_count": 33,
   "metadata": {
    "collapsed": true
   },
   "outputs": [],
   "source": [
    "train_data_imb = df_imb.values\n",
    "train_features_imb = train_data_imb[:, 0:7]"
   ]
  },
  {
   "cell_type": "code",
   "execution_count": 34,
   "metadata": {
    "collapsed": true
   },
   "outputs": [],
   "source": [
    "train_target_imb = train_data_imb[:,8].astype('int')"
   ]
  },
  {
   "cell_type": "code",
   "execution_count": 35,
   "metadata": {
    "collapsed": true
   },
   "outputs": [],
   "source": [
    "x_train_imb, x_test_imb, y_train_imb, y_test_imb = train_test_split(train_features_imb, train_target_imb, test_size = 0.20, random_state = 0)"
   ]
  },
  {
   "cell_type": "code",
   "execution_count": 36,
   "metadata": {
    "collapsed": true
   },
   "outputs": [],
   "source": [
    "#stima del classificatore ad albero\n",
    "clf_imb = DecisionTreeClassifier()\n",
    "\n",
    "parameters_imb = {'max_depth':[1,2,3,4,5,6,7,8,9,10,None] ,\n",
    "              'criterion': ['gini', 'entropy'],\n",
    "              'splitter': ['best', 'random'], \n",
    "              'min_samples_split': [0.1,0.2,0.3,0.4,0.5], \n",
    "              'min_samples_leaf': [1,2,3,4,5,6,7], \n",
    "              'min_weight_fraction_leaf': [0.0,0.1,0.2]\n",
    "             }\n",
    "scorer = make_scorer(accuracy_score)"
   ]
  },
  {
   "cell_type": "code",
   "execution_count": 37,
   "metadata": {
    "collapsed": true
   },
   "outputs": [],
   "source": [
    "grid_search_imb = GridSearchCV(clf_imb, param_grid = parameters_imb, scoring=scorer)"
   ]
  },
  {
   "cell_type": "code",
   "execution_count": 38,
   "metadata": {
    "collapsed": true
   },
   "outputs": [],
   "source": [
    "grid_fit_imb = grid_search_imb.fit(x_train_imb,y_train_imb)"
   ]
  },
  {
   "cell_type": "code",
   "execution_count": 39,
   "metadata": {
    "scrolled": false
   },
   "outputs": [
    {
     "name": "stdout",
     "output_type": "stream",
     "text": [
      "('I migliori parametri dopo la Grid Search sono:', {'splitter': 'random', 'min_samples_leaf': 7, 'min_weight_fraction_leaf': 0.0, 'criterion': 'gini', 'min_samples_split': 0.1, 'max_depth': 5})\n"
     ]
    }
   ],
   "source": [
    "print ('I migliori parametri dopo la Grid Search sono:', grid_fit_imb.best_params_)"
   ]
  },
  {
   "cell_type": "code",
   "execution_count": 40,
   "metadata": {},
   "outputs": [
    {
     "data": {
      "text/plain": [
       "DecisionTreeClassifier(class_weight=None, criterion='gini', max_depth=5,\n",
       "            max_features=None, max_leaf_nodes=None,\n",
       "            min_impurity_decrease=0.0, min_impurity_split=None,\n",
       "            min_samples_leaf=7, min_samples_split=0.1,\n",
       "            min_weight_fraction_leaf=0.0, presort=False, random_state=None,\n",
       "            splitter='random')"
      ]
     },
     "execution_count": 40,
     "metadata": {},
     "output_type": "execute_result"
    }
   ],
   "source": [
    "clf_imb.set_params(splitter='random', min_samples_leaf=7, min_weight_fraction_leaf=0.0, criterion='gini', min_samples_split= 0.1, max_depth=5)"
   ]
  },
  {
   "cell_type": "code",
   "execution_count": 41,
   "metadata": {
    "collapsed": true
   },
   "outputs": [],
   "source": [
    "clf_imb = clf_imb.fit(x_train_imb, y_train_imb);"
   ]
  },
  {
   "cell_type": "code",
   "execution_count": 42,
   "metadata": {
    "collapsed": true
   },
   "outputs": [],
   "source": [
    "predictions_imb = clf_imb.predict(x_test_imb)"
   ]
  },
  {
   "cell_type": "code",
   "execution_count": 43,
   "metadata": {},
   "outputs": [
    {
     "name": "stdout",
     "output_type": "stream",
     "text": [
      "Accuracy unbalanced classes: 0.88669 (+/- 0.00578)\n"
     ]
    }
   ],
   "source": [
    "scores = cross_validation.cross_val_score(clf_imb, x_train_imb, y_train_imb, cv=5)\n",
    "print ('Accuracy DT unbalanced classes: %0.5f (+/- %0.5f)' % (scores.mean(), scores.std() * 2))"
   ]
  },
  {
   "cell_type": "code",
   "execution_count": 44,
   "metadata": {},
   "outputs": [
    {
     "name": "stdout",
     "output_type": "stream",
     "text": [
      "(86.6, '%')\n"
     ]
    }
   ],
   "source": [
    "accuracy_grid = accuracy_score(y_test_imb, predictions_imb)*100\n",
    "print(round(accuracy_grid, 2), '%')"
   ]
  },
  {
   "cell_type": "code",
   "execution_count": 45,
   "metadata": {
    "collapsed": true
   },
   "outputs": [],
   "source": [
    "from sklearn.ensemble import AdaBoostClassifier\n",
    "\n",
    "ada_imb = AdaBoostClassifier(base_estimator=clf_imb)\n",
    "scoring = {'AUC': 'roc_auc', 'Accuracy': make_scorer(accuracy_score)}\n",
    "\n",
    "param = {'learning_rate': [1.0, 0.9, 0.8, 0.7, 0.6, 0.5],\n",
    "         'n_estimators': [50, 100, 150, 200, 225, 250], \n",
    "         'algorithm' : ['SAMME', 'SAMME.R']\n",
    "        }"
   ]
  },
  {
   "cell_type": "code",
   "execution_count": 46,
   "metadata": {
    "collapsed": true
   },
   "outputs": [],
   "source": [
    "grid_ada_imb = GridSearchCV(ada_imb, param_grid = param, scoring=scoring, cv=5, refit='AUC')"
   ]
  },
  {
   "cell_type": "code",
   "execution_count": 47,
   "metadata": {
    "collapsed": true
   },
   "outputs": [],
   "source": [
    "grid_a_imb = grid_ada_imb.fit(x_train_imb,y_train_imb)"
   ]
  },
  {
   "cell_type": "code",
   "execution_count": 48,
   "metadata": {},
   "outputs": [
    {
     "name": "stdout",
     "output_type": "stream",
     "text": [
      "('I migliori parametri dopo la Grid Search sono:', {'n_estimators': 150, 'learning_rate': 0.5, 'algorithm': 'SAMME'})\n"
     ]
    }
   ],
   "source": [
    "print ('I migliori parametri dopo la Grid Search sono:', grid_a_imb.best_params_)"
   ]
  },
  {
   "cell_type": "code",
   "execution_count": 49,
   "metadata": {},
   "outputs": [
    {
     "data": {
      "text/plain": [
       "AdaBoostClassifier(algorithm='SAMME',\n",
       "          base_estimator=DecisionTreeClassifier(class_weight=None, criterion='gini', max_depth=5,\n",
       "            max_features=None, max_leaf_nodes=None,\n",
       "            min_impurity_decrease=0.0, min_impurity_split=None,\n",
       "            min_samples_leaf=7, min_samples_split=0.1,\n",
       "            min_weight_fraction_leaf=0.0, presort=False, random_state=None,\n",
       "            splitter='random'),\n",
       "          learning_rate=0.5, n_estimators=150, random_state=None)"
      ]
     },
     "execution_count": 49,
     "metadata": {},
     "output_type": "execute_result"
    }
   ],
   "source": [
    "ada_imb.set_params(learning_rate=0.5, n_estimators=150, algorithm='SAMME')"
   ]
  },
  {
   "cell_type": "code",
   "execution_count": 50,
   "metadata": {
    "collapsed": true
   },
   "outputs": [],
   "source": [
    "ada_imb = ada_imb.fit(x_train_imb, y_train_imb);"
   ]
  },
  {
   "cell_type": "code",
   "execution_count": 51,
   "metadata": {
    "collapsed": true
   },
   "outputs": [],
   "source": [
    "test_pred_imb = ada_imb.predict(x_test_imb)"
   ]
  },
  {
   "cell_type": "code",
   "execution_count": 52,
   "metadata": {},
   "outputs": [
    {
     "name": "stdout",
     "output_type": "stream",
     "text": [
      "Accuracy AdaBoost unbalanced classes: 0.88625 (+/- 0.00751)\n"
     ]
    }
   ],
   "source": [
    "scores = cross_validation.cross_val_score(clf_imb, x_train_imb, y_train_imb, cv=5)\n",
    "print ('Accuracy AdaBoost unbalanced classes: %0.5f (+/- %0.5f)' % (scores.mean(), scores.std() * 2))"
   ]
  },
  {
   "cell_type": "code",
   "execution_count": 53,
   "metadata": {},
   "outputs": [
    {
     "data": {
      "text/plain": [
       "{0: 491, 1: 76}"
      ]
     },
     "execution_count": 53,
     "metadata": {},
     "output_type": "execute_result"
    }
   ],
   "source": [
    "# examine the class distribution of the testing set\n",
    "unique, counts = np.unique(y_test_imb, return_counts=True)\n",
    "dict(zip(unique, counts))"
   ]
  },
  {
   "cell_type": "code",
   "execution_count": 58,
   "metadata": {
    "collapsed": true
   },
   "outputs": [],
   "source": [
    "classes= ['3-14', '15-29']\n",
    "cm_test_imb = confusion_matrix(y_test_imb, test_pred_imb)"
   ]
  },
  {
   "cell_type": "code",
   "execution_count": 59,
   "metadata": {},
   "outputs": [
    {
     "name": "stdout",
     "output_type": "stream",
     "text": [
      "Confusion matrix, without normalization\n",
      "[[478  13]\n",
      " [ 54  22]]\n"
     ]
    },
    {
     "data": {
      "image/png": "[encoded data removed]",
      "text/plain": [
       "<matplotlib.figure.Figure at 0xeb07e80>"
      ]
     },
     "metadata": {},
     "output_type": "display_data"
    }
   ],
   "source": [
    "#Test set\n",
    "plot_confusion_matrix(cm_test_imb, classes=classes, title=\"Confusion Matrix of UnBalanced Data AdaBoost\")"
   ]
  },
  {
   "cell_type": "markdown",
   "metadata": {},
   "source": [
    "# ADABOOST - OVERSAMPLED"
   ]
  },
  {
   "cell_type": "code",
   "execution_count": 60,
   "metadata": {
    "collapsed": true
   },
   "outputs": [],
   "source": [
    "train_data_os = df_os.values\n",
    "train_features_os = train_data_os[:, 0:7]"
   ]
  },
  {
   "cell_type": "code",
   "execution_count": 61,
   "metadata": {
    "collapsed": true
   },
   "outputs": [],
   "source": [
    "train_target_os = train_data_os[:,8].astype('int')"
   ]
  },
  {
   "cell_type": "code",
   "execution_count": 62,
   "metadata": {
    "collapsed": true
   },
   "outputs": [],
   "source": [
    "#OVERSAMPLING SULLA CLASSE DI MINORANZA (15-29)\n",
    "from collections import Counter\n",
    "from sklearn.datasets import make_classification\n",
    "from imblearn.over_sampling import SMOTE"
   ]
  },
  {
   "cell_type": "code",
   "execution_count": 63,
   "metadata": {
    "collapsed": true
   },
   "outputs": [],
   "source": [
    "sm = SMOTE(ratio = {1:1800})\n",
    "trainfSMO, traintSMO = sm.fit_sample(train_features_os, train_target_os)"
   ]
  },
  {
   "cell_type": "code",
   "execution_count": 64,
   "metadata": {
    "collapsed": true
   },
   "outputs": [],
   "source": [
    "x_train_os, x_test_os, y_train_os, y_test_os = train_test_split(trainfSMO, traintSMO, test_size = 0.20, random_state = 0)"
   ]
  },
  {
   "cell_type": "code",
   "execution_count": 65,
   "metadata": {
    "collapsed": true
   },
   "outputs": [],
   "source": [
    "#stima del classificatore ad albero\n",
    "clf_os = DecisionTreeClassifier()\n",
    "\n",
    "parameters_os = {'max_depth':[1,2,3,4,5,6,7,8,9,10,None] ,\n",
    "              'criterion': ['gini', 'entropy'],\n",
    "              'splitter': ['best', 'random'], \n",
    "              'min_samples_split': [0.1,0.2,0.3,0.4,0.5], \n",
    "              'min_samples_leaf': [1,2,3,4,5,6,7], \n",
    "              'min_weight_fraction_leaf': [0.0,0.1,0.2]\n",
    "             }\n",
    "scorer = make_scorer(accuracy_score)"
   ]
  },
  {
   "cell_type": "code",
   "execution_count": 66,
   "metadata": {
    "collapsed": true
   },
   "outputs": [],
   "source": [
    "grid_search_os = GridSearchCV(clf_os, param_grid = parameters_os, scoring=scorer)"
   ]
  },
  {
   "cell_type": "code",
   "execution_count": 67,
   "metadata": {
    "collapsed": true
   },
   "outputs": [],
   "source": [
    "grid_fit_imb = grid_search_os.fit(x_train_os,y_train_os)"
   ]
  },
  {
   "cell_type": "code",
   "execution_count": 68,
   "metadata": {
    "scrolled": false
   },
   "outputs": [
    {
     "name": "stdout",
     "output_type": "stream",
     "text": [
      "('I migliori parametri dopo la Grid Search sono:', {'splitter': 'best', 'min_samples_leaf': 1, 'min_weight_fraction_leaf': 0.0, 'criterion': 'entropy', 'min_samples_split': 0.1, 'max_depth': 7})\n"
     ]
    }
   ],
   "source": [
    "print ('I migliori parametri dopo la Grid Search sono:', grid_fit_imb.best_params_)"
   ]
  },
  {
   "cell_type": "code",
   "execution_count": 69,
   "metadata": {},
   "outputs": [
    {
     "data": {
      "text/plain": [
       "DecisionTreeClassifier(class_weight=None, criterion='entropy', max_depth=7,\n",
       "            max_features=None, max_leaf_nodes=None,\n",
       "            min_impurity_decrease=0.0, min_impurity_split=None,\n",
       "            min_samples_leaf=1, min_samples_split=0.1,\n",
       "            min_weight_fraction_leaf=0.0, presort=False, random_state=None,\n",
       "            splitter='best')"
      ]
     },
     "execution_count": 69,
     "metadata": {},
     "output_type": "execute_result"
    }
   ],
   "source": [
    "clf_os.set_params(splitter='best', min_samples_leaf=1, min_weight_fraction_leaf=0.0, criterion='entropy', min_samples_split= 0.1, max_depth=7)"
   ]
  },
  {
   "cell_type": "code",
   "execution_count": 70,
   "metadata": {
    "collapsed": true
   },
   "outputs": [],
   "source": [
    "clf_os = clf_os.fit(x_train_os, y_train_os);"
   ]
  },
  {
   "cell_type": "code",
   "execution_count": 71,
   "metadata": {
    "collapsed": true
   },
   "outputs": [],
   "source": [
    "predictions_imb = clf_os.predict(x_test_os)"
   ]
  },
  {
   "cell_type": "code",
   "execution_count": 72,
   "metadata": {},
   "outputs": [
    {
     "name": "stdout",
     "output_type": "stream",
     "text": [
      "Accuracy DT oversampled classes: 0.75580 (+/- 0.04435)\n"
     ]
    }
   ],
   "source": [
    "scores = cross_validation.cross_val_score(clf_os, x_train_os, y_train_os, cv=5)\n",
    "print ('Accuracy DT oversampled classes: %0.5f (+/- %0.5f)' % (scores.mean(), scores.std() * 2))"
   ]
  },
  {
   "cell_type": "code",
   "execution_count": 73,
   "metadata": {},
   "outputs": [
    {
     "name": "stdout",
     "output_type": "stream",
     "text": [
      "(79.79, '%')\n"
     ]
    }
   ],
   "source": [
    "accuracy_grid = accuracy_score(y_test_os, predictions_imb)*100\n",
    "print(round(accuracy_grid, 2), '%')"
   ]
  },
  {
   "cell_type": "code",
   "execution_count": 77,
   "metadata": {},
   "outputs": [],
   "source": [
    "from sklearn.ensemble import AdaBoostClassifier\n",
    "\n",
    "ada_os = AdaBoostClassifier(base_estimator=clf_os)\n",
    "scoring = {'AUC': 'roc_auc', 'Accuracy': make_scorer(accuracy_score)}\n",
    "\n",
    "param = {'learning_rate': [1.0, 0.9, 0.8, 0.7, 0.6, 0.5],\n",
    "         'n_estimators': [50, 100, 150, 200, 225, 250], \n",
    "         'algorithm' : ['SAMME', 'SAMME.R']\n",
    "        }"
   ]
  },
  {
   "cell_type": "code",
   "execution_count": 78,
   "metadata": {
    "collapsed": true
   },
   "outputs": [],
   "source": [
    "grid_ada_os = GridSearchCV(ada_os, param_grid = param, scoring=scoring, refit='AUC')"
   ]
  },
  {
   "cell_type": "code",
   "execution_count": 79,
   "metadata": {},
   "outputs": [],
   "source": [
    "grid_a_os = grid_ada_os.fit(x_train_os,y_train_os)"
   ]
  },
  {
   "cell_type": "code",
   "execution_count": 80,
   "metadata": {},
   "outputs": [
    {
     "name": "stdout",
     "output_type": "stream",
     "text": [
      "('I migliori parametri dopo la Grid Search sono:', {'n_estimators': 250, 'learning_rate': 1.0, 'algorithm': 'SAMME.R'})\n"
     ]
    }
   ],
   "source": [
    "print ('I migliori parametri dopo la Grid Search sono:', grid_a_os.best_params_)"
   ]
  },
  {
   "cell_type": "code",
   "execution_count": 81,
   "metadata": {},
   "outputs": [
    {
     "data": {
      "text/plain": [
       "AdaBoostClassifier(algorithm='SAMME.R',\n",
       "          base_estimator=DecisionTreeClassifier(class_weight=None, criterion='entropy', max_depth=7,\n",
       "            max_features=None, max_leaf_nodes=None,\n",
       "            min_impurity_decrease=0.0, min_impurity_split=None,\n",
       "            min_samples_leaf=1, min_samples_split=0.1,\n",
       "            min_weight_fraction_leaf=0.0, presort=False, random_state=None,\n",
       "            splitter='best'),\n",
       "          learning_rate=1.0, n_estimators=250, random_state=None)"
      ]
     },
     "execution_count": 81,
     "metadata": {},
     "output_type": "execute_result"
    }
   ],
   "source": [
    "ada_os.set_params(learning_rate=1.0, n_estimators=250, algorithm='SAMME.R')"
   ]
  },
  {
   "cell_type": "code",
   "execution_count": 82,
   "metadata": {
    "collapsed": true
   },
   "outputs": [],
   "source": [
    "ada_os = ada_os.fit(x_train_os, y_train_os);"
   ]
  },
  {
   "cell_type": "code",
   "execution_count": 83,
   "metadata": {
    "collapsed": true
   },
   "outputs": [],
   "source": [
    "test_pred_os = ada_os.predict(x_test_os)"
   ]
  },
  {
   "cell_type": "code",
   "execution_count": 84,
   "metadata": {},
   "outputs": [
    {
     "name": "stdout",
     "output_type": "stream",
     "text": [
      "Accuracy AdaBoost oversampled classes: 0.75580 (+/- 0.04435)\n"
     ]
    }
   ],
   "source": [
    "scores = cross_validation.cross_val_score(clf_os, x_train_os, y_train_os, cv=5)\n",
    "print ('Accuracy AdaBoost oversampled classes: %0.5f (+/- %0.5f)' % (scores.mean(), scores.std() * 2))"
   ]
  },
  {
   "cell_type": "code",
   "execution_count": 87,
   "metadata": {},
   "outputs": [
    {
     "name": "stdout",
     "output_type": "stream",
     "text": [
      "('Accuracy Oversampled ', 90.01, '%')\n"
     ]
    }
   ],
   "source": [
    "print(\"Accuracy Oversampled \", round(metrics.accuracy_score(y_test_os, test_pred_os)*100, 2), '%')"
   ]
  },
  {
   "cell_type": "code",
   "execution_count": 89,
   "metadata": {
    "collapsed": true
   },
   "outputs": [],
   "source": [
    "classes= ['3-14', '15-29']\n",
    "cm_test_os = confusion_matrix(y_test_os, test_pred_os)"
   ]
  },
  {
   "cell_type": "code",
   "execution_count": 90,
   "metadata": {},
   "outputs": [
    {
     "name": "stdout",
     "output_type": "stream",
     "text": [
      "Confusion matrix, without normalization\n",
      "[[457  50]\n",
      " [ 36 318]]\n"
     ]
    },
    {
     "data": {
      "image/png": "[encoded data removed]",
      "text/plain": [
       "<matplotlib.figure.Figure at 0x100372b0>"
      ]
     },
     "metadata": {},
     "output_type": "display_data"
    }
   ],
   "source": [
    "#Test set\n",
    "plot_confusion_matrix(cm_test_os, classes=classes, title=\"Confusion Matrix of Oversampled Data AdaBoost\")"
   ]
  },
  {
   "cell_type": "code",
   "execution_count": 91,
   "metadata": {
    "scrolled": true
   },
   "outputs": [
    {
     "data": {
      "image/png": "[encoded data removed]",
      "text/plain": [
       "<matplotlib.figure.Figure at 0x101e09e8>"
      ]
     },
     "metadata": {},
     "output_type": "display_data"
    }
   ],
   "source": [
    "from sklearn.metrics import roc_curve, auc\n",
    "import seaborn as sns\n",
    "\n",
    "fpr_test, tpr_test, _= roc_curve(y_test, test_pred)\n",
    "roc_auc = auc(fpr_test, tpr_test)\n",
    "\n",
    "\n",
    "fpr_test_imb, tpr_test_imb, _= roc_curve(y_test_imb, test_pred_imb)\n",
    "roc_auc_imb = auc(fpr_test_imb, tpr_test_imb)\n",
    "\n",
    "\n",
    "fpr_test_os, tpr_test_os, _= roc_curve(y_test_os, test_pred_os)\n",
    "roc_auc_os = auc(fpr_test_os, tpr_test_os)\n",
    "\n",
    "\n",
    "\n",
    "sns.set_style(\"darkgrid\")\n",
    "plt.plot(fpr_test,tpr_test, label=' Balanced Data (area = %0.2f)' % roc_auc)\n",
    "plt.plot(fpr_test_imb,tpr_test_imb, label=' Unbalanced Data (area = %0.2f)' % roc_auc_imb)\n",
    "plt.plot(fpr_test_os,tpr_test_os, label=' Oversampled Data (area = %0.2f)' % roc_auc_os)\n",
    "\n",
    "plt.title(\"ROC - AdaBoost\")\n",
    "\n",
    "plt.legend(loc=\"lower right\")\n",
    "plt.plot([0,1], [0,1], 'k--', lw = 1)\n",
    "plt.plot([0,0], [1,0], 'k--', lw = 1, color = 'black')\n",
    "plt.plot([1,0], [1,1], 'k--', lw = 1, color = 'black')\n",
    "plt.xlabel('False Positive rate')\n",
    "plt.ylabel('True Positive rate');\n",
    "plt.show()"
   ]
  }
 ],
 "metadata": {
  "kernelspec": {
   "display_name": "Python 2",
   "language": "python",
   "name": "python2"
  },
  "language_info": {
   "codemirror_mode": {
    "name": "ipython",
    "version": 2
   },
   "file_extension": ".py",
   "mimetype": "text/x-python",
   "name": "python",
   "nbconvert_exporter": "python",
   "pygments_lexer": "ipython2",
   "version": "2.7.14"
  }
 },
 "nbformat": 4,
 "nbformat_minor": 2
}
